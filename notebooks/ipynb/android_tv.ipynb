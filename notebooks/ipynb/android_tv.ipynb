{
 "cells": [
  {
   "cell_type": "markdown",
   "id": "901a9a2e",
   "metadata": {
    "cell_marker": "'''",
    "lines_to_next_cell": 0
   },
   "source": [
    "# Use your Android TV without a Google account"
   ]
  },
  {
   "cell_type": "markdown",
   "id": "2838227a",
   "metadata": {
    "cell_marker": "'''",
    "lines_to_next_cell": 0
   },
   "source": [
    "How to avoid registering to a Google account on your Android smart TV."
   ]
  },
  {
   "cell_type": "markdown",
   "id": "2a7e9bc0",
   "metadata": {
    "cell_marker": "'''",
    "lines_to_next_cell": 0
   },
   "source": [
    "## tl;dr\n",
    "1. Install android developper tools on your PC\n",
    "2. Enable dev mode on your TV and connect to it\n",
    "3. Download .apk files and install them using `adb`"
   ]
  },
  {
   "cell_type": "markdown",
   "id": "350ea974",
   "metadata": {
    "cell_marker": "'''",
    "lines_to_next_cell": 0
   },
   "source": [
    "## Introduction\n",
    "\n",
    "Forced registration is a [dark pattern](https://en.wikipedia.org/wiki/Dark_pattern) that forces users to register to an account to use any kind of services.\n",
    "Google is known for that kind of practices and they use it quite a lot on any android-powered devices (like your smart TV).\n",
    "\n",
    "People are not necessarily aware that it is possible to completely avoid registering to Google to use your TV and android features, especially installing app.\n",
    "\n",
    "## Requirements\n",
    "\n",
    "To use this tutorial, you will need:\n",
    "* A tv running android-tv OS (mine has Android TV 11 with kernel 4.19) connected to internet (ideally via ethernet)\n",
    "* Another computer that will connect remotely to your TV, also connected to your network\n",
    "\n",
    "The following instructions are for LINUX, but should be somehow similar to Windows.\n",
    "\n",
    "### Install android developper tools\n",
    "\n",
    "We first need to install the [Android Debug Bridge](https://developer.android.com/tools/adb) (adb) on your host PC.\n",
    "\n",
    "```bash\n",
    "sudo apt-get -y install android-tools-adb\n",
    "```\n",
    "\n",
    "### Enable developper mode on your TV\n",
    "\n",
    "In the Android settings, find the section where you have your Android build information, and push `OK` a few times.\n",
    "\n",
    "<img src=\"imgs/android_tv/dev_mode.png\" width=\"400\"/>\n",
    "\n",
    "Quite a weird way to enable dev-mode, it reminds me the old days when putting some cheat codes on my GameBoy games...\n",
    "\n",
    "If correct, there should be a message saying \"you are now a developper\".\n",
    "There should be a new menu item \"Developper options\" where you can enable \"USB debugging\".\n",
    "\n",
    "If any troubles check on [this website](https://docs.nvidia.com/gameworks/content/developertools/mobile/nsight_tegra/nsight_tegra_unlock_devmode.htm?ref=evanw.com).\n",
    "\n",
    "## Install android apps\n",
    "\n",
    "Android developers package their application uising the `.apk` file format, make sure to always select the 32-bit versions (armeabi-v7a versions) if you are not using an NVIDIA shield.\n",
    "\n",
    "Where to find them ? There are a lot of website that provide repositories to distribute them but I am personnally using [apkmirror.com](https://www.apkmirror.com).\n",
    "Always prefer developper mirrors or github/gitlab releases page (which is common), for example [SmartTube](https://github.com/yuliskov/SmartTube/releases/) does that.\n",
    "\n",
    "### Sideload app to your TV\n",
    "\n",
    "The action of installing an app directly to a device is called \"side-loading\".\n",
    "After you have downloaded a bunch of apk files on your PC, it is time to install them!\n",
    "\n",
    ">**Warning**  \n",
    ">Always proceed with caution when downloading files from an untrusted source!\n",
    "\n",
    "First identify the IP adress of your TV, it should be somehwere in **Settings > Network > About**.\n",
    "\n",
    "Then, connect your TV with `adb` and check that the connection is successfull:\n",
    "```bash\n",
    "adb connect <IP>\n",
    "adb devices\n",
    "```\n",
    "\n",
    "Accept the USB debugging prompt that will appear on your Android TV.\n",
    "\n",
    "<img src=\"imgs/android_tv/usb-debugging-promt.jpg\" width=\"400\"/>\n",
    "\n",
    "You can now sideload the package!\n",
    "```bash\n",
    "adb install /path/to/apk/file\n",
    "```"
   ]
  },
  {
   "cell_type": "markdown",
   "id": "e438b314",
   "metadata": {
    "cell_marker": "'''",
    "lines_to_next_cell": 0
   },
   "source": [
    "## To go further"
   ]
  },
  {
   "cell_type": "markdown",
   "id": "d0635851",
   "metadata": {
    "cell_marker": "'''",
    "lines_to_next_cell": 0
   },
   "source": [
    "A whole new world is now open to you, you are not limited to only installing apk but you can actually customize your TV now!\n",
    "For example, you can access and send files to the TV storage with `adb shell` (I use that to backup my kodi library environment).\n",
    "This is quite usefull if you don't want to install additionnal apps on your TVs."
   ]
  },
  {
   "cell_type": "markdown",
   "id": "0482c839",
   "metadata": {
    "cell_marker": "'''",
    "lines_to_next_cell": 0
   },
   "source": [
    "# Tags"
   ]
  },
  {
   "cell_type": "markdown",
   "id": "5a249a0f",
   "metadata": {
    "cell_marker": "'''"
   },
   "source": [
    "Software-Development; Computer-Science; Media-Server"
   ]
  }
 ],
 "metadata": {
  "jupytext": {
   "cell_metadata_filter": "-all"
  },
  "kernelspec": {
   "display_name": "ltetrel.io",
   "language": "python",
   "name": "ltetrel.io"
  },
  "language_info": {
   "codemirror_mode": {
    "name": "ipython",
    "version": 3
   },
   "file_extension": ".py",
   "mimetype": "text/x-python",
   "name": "python",
   "nbconvert_exporter": "python",
   "pygments_lexer": "ipython3",
   "version": "3.10.14"
  }
 },
 "nbformat": 4,
 "nbformat_minor": 5
}
