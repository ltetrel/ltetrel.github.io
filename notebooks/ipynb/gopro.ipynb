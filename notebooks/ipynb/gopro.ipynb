{
 "cells": [
  {
   "cell_type": "markdown",
   "metadata": {
    "cell_marker": "'''",
    "lines_to_next_cell": 0
   },
   "source": [
    "# Access the GoPro videos without the app"
   ]
  },
  {
   "cell_type": "markdown",
   "metadata": {
    "cell_marker": "'''",
    "lines_to_next_cell": 0
   },
   "source": [
    "This post will guide you step by step on how to access your video files over LAN wifi without the official app, from your GoPro directly to your computer."
   ]
  },
  {
   "cell_type": "markdown",
   "metadata": {
    "cell_marker": "'''",
    "lines_to_next_cell": 0
   },
   "source": [
    "## Introduction\n",
    "\n",
    "GoPro is a well known action camera founded by Woodman Labs. As many of big manufacturers, they like to build their own eco-system to keep their clients inside it\n",
    "(so client won't easilly switch product because they are used to the frontend).\n",
    "This is a pure marketing technic that personally I hate, and make simple things as copying files from one device to another a living hell (hi Apple!).\n",
    "\n",
    "In this case, we have videos captured from a GoPro, and we want to transfer them to our computer.\n",
    "The easiest way is to download the GoPro software or app, and download from there.\n",
    "If you are like me and don't like to install too useless softwares on your computer to keep it clean (so it is not a garbage), follow this guide!\n",
    "\n",
    "## Requirements\n",
    "\n",
    "Before you start make sure you have a stable wifi, and enable it on your desktop.\n",
    "Since we will use wifi to connect to the GoPro devide, if you are not using ethernet you will lose your internet connection.\n",
    "Optionnally, if you want to automatically scrap all the content on your desktop, you will need to install [wget](https://manpages.ubuntu.com/manpages/bionic/man1/wget.1.html).\n",
    "\n",
    "```bash\n",
    "sudo apt install wget\n",
    "```\n",
    "\n",
    "### GoPro in server mode\n",
    "\n",
    "If you have the app installed, they ask you to put your GoPro ready in application mode.\n",
    "What happens is that your GoPro is actually creating a local web server, then the app access this server and let you download the files.\n",
    "Instead, we will bypass the app and access the GoPro server directly!\n",
    "\n",
    "1. Power the GoPro, so it will not shut down during the entire process.\n",
    "2. Make sure that you enabled remote connections under `settings/connection/remote connections/yes`\n",
    "3. Go into application mode with `settings/connections/connect a peripheral/gopro application`\n",
    "\n",
    ">**Warning**  \n",
    ">Pluging your GoPro is important because when the device is put into application mode, it won't put itself on sleep. Be also carefull that the camera (and mostly the lens!) doesn't get too hot.\n",
    "\n",
    "### Downloading the video files\n",
    "\n",
    "Now we want to access the server to be able to download files.\n",
    "Place the GoPro near your desktop, then:\n",
    "\n",
    "1. On you desktop, connect to the new wifi named `GPXXXXXXXX` (with 8 digits).\n",
    "2. You will find the credentials for the wifi under `settings/connections/camera info`.\n",
    "\n",
    "When you are connected, you should be able to access locally your file at http://10.5.5.9:8080/videos/DCIM/100GOPRO/.\n",
    "Voila! You have access to your files and you can play them on your browser, or manually download them.\n",
    "\n",
    ">**Note**  \n",
    ">The actual important video files are the `*.MP4`, the other files `*.LRV` are a specific GoPro format used by their app for previews.\n",
    "\n",
    "### Scrap the files\n",
    "\n",
    "Of course, downloading the files one by one is a time consuming process.\n",
    "Ideally you would like to get all the videos directly inside a folder:\n",
    "\n",
    "```bash\n",
    "cd my/folder\n",
    "wget -A .MP4 -r --no-parent http://10.5.5.9:8080/videos/DCIM/100GOPRO/\n",
    "```\n",
    "\n",
    ">**Note**  \n",
    ">Normally it should download at relatively high speed (>5MB/s), but it depends of the speed of your LAN network.\n",
    "\n",
    "### (optionnally) Transcode the media\n",
    "\n",
    "There is a high chance that you will not be able to play the media on your browser. This is because GoPro uses HEVC format (which is the update from h264) by default, and most browser does not support this format.\n",
    "If you need more information about the HEVC format, check [this amazing post](https://developer.mozilla.org/en-US/docs/Web/Media/Formats/Video_codecs) from mozilla, but to summarize,\n",
    "it allows a more efficient compression compare to its previous version.\n",
    "\n",
    "To disable HEVC, you can do that under the GoPro seetings in `general/video compression/h.264 and HEVC`.\n",
    "If you have you files already in HEVC, you can still transcode it to h.264 using [ffmpeg](https://ffmpeg.org/).\n",
    "As an example if you [have already compiled ffmpeg with nvidia]({% link _posts/2000-01-01-jellyfin.html %}#Installing-FFmpeg):\n",
    "```bash\n",
    "ffmpeg -vsync 0 -hwaccel cuda -hwaccel_output_format cuda -i GXxxxxxx.MP4 -map 0:a:0 -c:a copy -map 0:v:0 -c:v:0 h264_nvenc -preset slow -b:v 36M GXxxxxxx_h264.mp4\n",
    "```\n",
    "\n",
    "To guide you on which options to use for compression, check [the ffmpeg wiki](https://trac.ffmpeg.org/wiki/Encode/H.264)."
   ]
  },
  {
   "cell_type": "markdown",
   "metadata": {
    "cell_marker": "'''",
    "lines_to_next_cell": 0
   },
   "source": [
    "## To go further"
   ]
  },
  {
   "cell_type": "markdown",
   "metadata": {
    "cell_marker": "'''",
    "lines_to_next_cell": 0
   },
   "source": [
    "Because the GoPro acts as a server, there is nothing stopping you accessing the media on another device than your desktop.\n",
    "For example you could view the videos on your tv with a kodi device, remotely and without buying the hdmi cable."
   ]
  },
  {
   "cell_type": "markdown",
   "metadata": {
    "cell_marker": "'''",
    "lines_to_next_cell": 0
   },
   "source": [
    "# Tags"
   ]
  },
  {
   "cell_type": "markdown",
   "metadata": {
    "cell_marker": "'''"
   },
   "source": [
    "Software-Development; Media-Server"
   ]
  }
 ],
 "metadata": {
  "jupytext": {
   "cell_metadata_filter": "-all"
  },
  "kernelspec": {
   "display_name": "Python 3.6.9 64-bit",
   "language": "python",
   "name": "python36964bit4f06cc80e5be4040ac10d7a80bb38421"
  },
  "language_info": {
   "codemirror_mode": {
    "name": "ipython",
    "version": 3
   },
   "file_extension": ".py",
   "mimetype": "text/x-python",
   "name": "python",
   "nbconvert_exporter": "python",
   "pygments_lexer": "ipython3",
   "version": "3.6.9"
  }
 },
 "nbformat": 4,
 "nbformat_minor": 2
}
