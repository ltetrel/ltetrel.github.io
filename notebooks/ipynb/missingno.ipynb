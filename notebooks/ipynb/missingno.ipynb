{
 "cells": [
  {
   "cell_type": "markdown",
   "metadata": {
    "cell_marker": "'''",
    "lines_to_next_cell": 0
   },
   "source": [
    "# How to obtain MissingNo. offline in PokéClicker"
   ]
  },
  {
   "cell_type": "markdown",
   "metadata": {
    "cell_marker": "'''",
    "lines_to_next_cell": 0
   },
   "source": [
    "PokéClicker is a famous online clicker game which attracted a lot of players recently.\n",
    "Today we will focus on a specific pokemon that can be obtained through a surprising way, MissingNo."
   ]
  },
  {
   "cell_type": "markdown",
   "metadata": {
    "cell_marker": "'''",
    "lines_to_next_cell": 0
   },
   "source": [
    "## Who is this pokemon ?\n",
    "\n",
    "In the pokemon serie, there was a strange monster that appeared to some of the players, MissingNo.\n",
    "It could not be encountered in the wild, but rather after a bug like the [old man glitch](https://bulbapedia.bulbagarden.net/wiki/Old_man_glitch).\n",
    "This pokemon resulted from a wrong pokédex entry during a fight, he is actually not unique and has [a lot of variations](https://bulbapedia.bulbagarden.net/wiki/MissingNo.).\n",
    "\n",
    "<img src=\"imgs/missingno/sprite.jpg\" alt=\"drawing\" width=\"500\"/>\n",
    "\n",
    "## MissingNo. in PokéClicker\n",
    "\n",
    "This pokémon was added to PokéClicker mostly as an easter egg and cannot be obtainable through normal manner.\n",
    "He is used for error handling (if there is a bug within the game), and his pokédex entry is #0.\n",
    "Hopefully, we can easilly access the game's data to found a way to obtain it.\n",
    "\n",
    "## Obtaining the pokmon using the javascript console\n",
    "\n",
    "Pokéclicker is an open-source, community driven game that is mostly developped using Javascript.\n",
    "The source code is [available on github](https://github.com/pokeclicker/pokeclicker) if you are curious.\n",
    "\n",
    "Most of the important functions are public, hence is it really easy to access the in-game memory using any web browser.\n",
    "Indeed, nowadays most if not all browser acts as an IDE and hence have access to a debug environement. Thanks to that, anyone can modify the data completely offline!\n",
    "For the rest, I will provide the instructions for firefox only, but it should be easilly transferrable to chrome, or edge.\n",
    "\n",
    "1. First make a save of your game, just in case.\n",
    "2. Then simply press `F12` to access the web console, or click on the settings icon (up right) then `More tools/Web Developer Tools`.\n",
    "3. You can now use the public function to gain a pokemon, using `id=0` as a parameter:\n",
    "\n",
    "```bash\n",
    "App.game.party.gainPokemonById(0)\n",
    "```\n",
    "\n",
    "Congratulations, you just obtained MissingNo. !\n",
    "\n",
    ">**Note**:\n",
    ">\n",
    ">I should not tell you that, but you can of course change the id to another pokémon...\n",
    ">\n",
    ">There is also another optionnal parameter. If you want it to be shiny, put the parameter to `1`:\n",
    ">```bash\n",
    ">App.game.party.gainPokemonById(0, 1)\n",
    ">```"
   ]
  },
  {
   "cell_type": "markdown",
   "metadata": {
    "cell_marker": "'''",
    "lines_to_next_cell": 0
   },
   "source": [
    "## To go further"
   ]
  },
  {
   "cell_type": "markdown",
   "metadata": {
    "cell_marker": "'''",
    "lines_to_next_cell": 0
   },
   "source": [
    "Obviously this is not the only function that you can have access to!\n",
    "If you want to cheat, after typing `App.game` you will see the list of available class/functions.\n",
    "Check for example `App.game.wallet.gainMoney` 💰 😈 💰\n",
    "\n",
    "Use it sporadically (or not at all) if you don't want to ruin your gameplay."
   ]
  },
  {
   "cell_type": "markdown",
   "metadata": {
    "cell_marker": "'''",
    "lines_to_next_cell": 0
   },
   "source": [
    "# Tags"
   ]
  },
  {
   "cell_type": "markdown",
   "metadata": {
    "cell_marker": "'''"
   },
   "source": [
    "Software-Development; Video-Games"
   ]
  }
 ],
 "metadata": {
  "jupytext": {
   "cell_metadata_filter": "-all"
  },
  "kernelspec": {
   "display_name": "Python 3.6.9 64-bit",
   "language": "python",
   "name": "python36964bit4f06cc80e5be4040ac10d7a80bb38421"
  },
  "language_info": {
   "codemirror_mode": {
    "name": "ipython",
    "version": 3
   },
   "file_extension": ".py",
   "mimetype": "text/x-python",
   "name": "python",
   "nbconvert_exporter": "python",
   "pygments_lexer": "ipython3",
   "version": "3.6.9"
  }
 },
 "nbformat": 4,
 "nbformat_minor": 2
}
