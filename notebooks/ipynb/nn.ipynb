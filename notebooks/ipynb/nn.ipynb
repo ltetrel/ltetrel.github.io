{
 "cells": [
  {
   "cell_type": "markdown",
   "metadata": {
    "cell_marker": "'''",
    "lines_to_next_cell": 0
   },
   "source": [
    "# Introduction to neural networks (part 1)"
   ]
  },
  {
   "cell_type": "markdown",
   "metadata": {
    "cell_marker": "'''",
    "lines_to_next_cell": 0
   },
   "source": [
    "You have all heard about deep neural networks, and maybe used it. In this post, I will try to \n",
    "explain the mathematics behind neural nets with a basic classification example.\n",
    "This tutorial has two parts, check out the part 2 [here]({% post_url 2000-01-01-nn_non_linear %})!"
   ]
  },
  {
   "cell_type": "markdown",
   "metadata": {
    "cell_marker": "'''",
    "lines_to_next_cell": 0
   },
   "source": [
    "## tl;dr\n",
    "1. A neural network is defined by a cascade of perceptron models, each with tunable parameters.\n",
    "2. Activations are used to compute the probability or make a prediction from the features\n",
    "3. The feed-forward pass evaluates the output(s) given the input(s)\n",
    "4. Back-propagation computes the gradients, used in the optimization process to update the perceptron parameters"
   ]
  },
  {
   "cell_type": "markdown",
   "metadata": {
    "cell_marker": "'''",
    "lines_to_next_cell": 0
   },
   "source": [
    "Deep learning is a tool that scientists use to solve a central problem in data science, how to model from data ?\n",
    "Depending of the context, data can be very complex and has diffrent forms:\n",
    "1D signals (audio, finance), 2D images (camera, ultrasound), 3D volumes (X-ray, computer graphics) or videos, 4D moving volumes (f-MRI).\n",
    "\n",
    "One way of infering predictions from these data is using machine learning. After designing a feature extractor by hand, you choose a system that predict from the feature\n",
    "whether the space is linear or not (SVM with kernel trick). \n",
    "On the other hand, deep learning strives to combine these two steps at once!\n",
    "It extracts the high-level, abstract features from the data itself and use them to do the prediction.\n",
    "\n",
    "This of course comes at a cost both in term of [mathematical understanding](https://builtin.com/data-science/disadvantages-neural-networks) or even\n",
    "[money](https://medium.com/cognifeed/the-cost-of-machine-learning-projects-7ca3aea03a5c)."
   ]
  },
  {
   "cell_type": "markdown",
   "metadata": {
    "cell_marker": "'''",
    "lines_to_next_cell": 0
   },
   "source": [
    "## 1. Background"
   ]
  },
  {
   "cell_type": "markdown",
   "metadata": {
    "cell_marker": "'''",
    "lines_to_next_cell": 0
   },
   "source": [
    "### 1.1. Perceptron model"
   ]
  },
  {
   "cell_type": "markdown",
   "metadata": {
    "cell_marker": "'''",
    "lines_to_next_cell": 0
   },
   "source": [
    "McCulloch et al. <cite>mcculloch1943logical</cite>\n",
    "were the first to introduce the idea of neural network as computing machine.\n",
    "It is a simple model defined by two free parameters, the weight vector $\\mathbf{w}$ and bias $b$:\n",
    "\n",
    "$$\n",
    "\\begin{equation}\\label{eq:perceptron}\n",
    "\tf(\\mathbf{x}) = \\mathbf{x}\\mathbf{w} + b\n",
    "\\end{equation}\n",
    "$$\n",
    "\n",
    "where the input vector $\\mathbf{x}$ has size $[1\\times D]$ with $D$ the number of features, and $\\mathbf{w}$ has size $[D\\times 1]$.\n",
    "This simple model can classify input features that are linearly separable.\n",
    "\n",
    "Looking at its derivatives w.r.t the parameters $\\mathbf{w}$ and $b$ is usefull\n",
    "when we want to analyse the impact of the parameters on the model.\n",
    "\n",
    "$$\n",
    "\\begin{equation}\\label{eq:softmax}\n",
    "    \\frac{\\partial f(\\mathbf{w})}{\\partial \\mathbf{w}} = \\mathbf{x};\\quad\n",
    "    \\frac{\\partial f(b)}{\\partial b} = 1\n",
    "\\end{equation}\n",
    "$$\n",
    "\n",
    "Things are getting more complicated for multiple neurons $C$ with parameters $\\mathbf{W}$ of size $[D\\times C]$\n",
    "and $\\mathbf{b}$ $[1\\times C]$.\n",
    "Because the neuron activation is a function $f(\\mathbf{W}):\\mathbb{R}^{D\\times C}\\rightarrow \\mathbb{R}^C$,\n",
    "the resulting jacobian matrix would have a size of $[D\\times C\\times D]$.\n",
    "There are [different strategies to handle this](https://web.stanford.edu/class/cs224n/readings/gradient-notes.pdf#page=3) \n",
    "but [one way of doing it](https://eli.thegreenplace.net/2016/the-softmax-function-and-its-derivative/) is to flatten $\\mathbf{W}$ \n",
    "so it becomes a vector $\\mathbf{w}$ with size $DC$, then the jacobians are:\n",
    "$$\n",
    "\\begin{equation}\n",
    "    \\frac{\\partial f(\\mathbf{W})}{\\partial \\mathbf{W}} = \n",
    "        \\begin{bmatrix}\n",
    "            x_1\\\\\n",
    "            \\vdots & \\ddots & x_1\\\\\n",
    "            x_D & \\ddots & \\vdots\\\\\n",
    "            & & x_D\\\\\n",
    "        \\end{bmatrix}_{[DC \\times C]}\n",
    "    \\frac{\\partial f(\\mathbf{b})}{\\partial \\mathbf{b}} = \n",
    "        \\begin{bmatrix}\n",
    "            1\\\\\n",
    "            & \\ddots\\\\\n",
    "            & & 1\n",
    "        \\end{bmatrix}_{[C \\times C]}\\\\\n",
    "\\end{equation}\n",
    "$$"
   ]
  },
  {
   "cell_type": "markdown",
   "metadata": {
    "cell_marker": "'''",
    "lines_to_next_cell": 0
   },
   "source": [
    "### 1.2. Activations"
   ]
  },
  {
   "cell_type": "markdown",
   "metadata": {
    "cell_marker": "'''",
    "lines_to_next_cell": 0
   },
   "source": [
    "Having a model is not enough to come up with a complete algorithm, we need a classifying rule that will compute the response based on the model output.\n",
    "Rosenblatt <cite>rosenblatt1957perceptron</cite> used a \n",
    "simple activation function (also reffered as heavyside), so the inputs would be classified as target $t=1$ if $\\mathbf{w} \\mathbf{x} + b > 0$ and target $t=0$ otherwise:\n",
    "\n",
    "$$\n",
    "\\begin{equation}\n",
    "    f(x) =\n",
    "    \\begin{cases}\n",
    "        1 & \\text{if }  x > 0 \\\\\n",
    "        0 & \\text{otherwise}\n",
    "    \\end{cases}\n",
    "\\end{equation}\n",
    "$$\n",
    "\n",
    "Nowadays, we used the widely adopted softmax <cite>bridle1990probabilistic</cite> (sigmoid for binary).\n",
    "It has two nice properties that make it a good function to model probability distributions: each value ranges between 0 and 1 and the sum of all values is always 1.\n",
    "Given the input vector $\\mathbf{x}$ of size $[C\\times 1]$ classes:\n",
    "\n",
    "$$\n",
    "\\begin{equation}\n",
    "\tf(\\mathbf{x}) = \\frac{1}{\\sum_{c=1}^C e^{x_c}}\n",
    "        \\begin{bmatrix}\n",
    "            e^{x_{i=1}} \\\\\n",
    "            \\vdots \\\\\n",
    "            e^{x_C} \\\\\n",
    "        \\end{bmatrix}\n",
    "\\end{equation}\n",
    "$$\n",
    "\n",
    "To [compute the jacobian matrix](https://en.wikipedia.org/wiki/Jacobian_matrix_and_determinant), we need to find the derivative of each\n",
    "output $f_{i=1}(\\mathbf{x}) \\dots f_C(\\mathbf{x})$ (lines) w.r.t. each inputs $x_{j=1} \\dots x_{j=D}$ (columns).\n",
    "The resulting jacobian matrix for the softmax function is :\n",
    "\n",
    "$$\n",
    "\\begin{equation}\n",
    "    \\frac{\\partial f(\\mathbf{x})}{\\partial \\mathbf{x}} =\n",
    "        \\begin{bmatrix}\n",
    "            y_{c=1}(\\mathbf{x})\\cdot (1 - y_{d=1}(\\mathbf{x})) & -y_1(\\mathbf{x})\\cdot y_2(\\mathbf{x}) & \\dots & -y_1(\\mathbf{x})\\cdot y_D(\\mathbf{x}) \\\\\n",
    "            -y_2(\\mathbf{x})\\cdot y_1(\\mathbf{x}) &  \\ddots & & \\vdots \\\\\n",
    "            \\vdots &  &  &  \\\\\n",
    "            -y_C(\\mathbf{x})\\cdot y_1(\\mathbf{x}) &  &  & y_C(\\mathbf{x})\\cdot (1 - y_D(\\mathbf{x})) \\\\\n",
    "        \\end{bmatrix}_{[C\\times D]}\n",
    "\\end{equation}\n",
    "$$\n",
    "Note that $C=D$ in this case (the input and output vector has the same length)."
   ]
  },
  {
   "cell_type": "markdown",
   "metadata": {
    "cell_marker": "'''",
    "lines_to_next_cell": 0
   },
   "source": [
    "## 1.3. Cost function"
   ]
  },
  {
   "cell_type": "markdown",
   "metadata": {},
   "source": [
    "\n",
    "The fitness of the data to the model is defined by the cost function, and can be calculated using the [likelihood function]({% post_url 2000-01-01-likelihood %}).\n",
    "Given the weight vector $\\mathbf{w}$ (which defines our model), the ground truth vector $\\mathbf{t}$ $[1\\times C]$ (which is either $0$ or $1$ in classification),\n",
    "the $c$ th activation of the softmax $y_c(\\mathbf{x})$ and the input data $\\mathbf{x}$ $[1\\times C]$, the likelihood is:\n",
    "$$\n",
    "\\begin{equation}\\label{eq:cost}\n",
    "    \\mathcal{L}(\\mathbf{w}|\\mathbf{t}, \\mathbf{x}) = \\prod_{c=1}^{C} y_c(\\mathbf{x})^{t_c}\n",
    "\\end{equation}\n",
    "$$\n",
    "\n",
    "After minimizing the negative $\\log$ likelihood, the loss function over one sample looks like:\n",
    "\n",
    "$$\n",
    "\\begin{equation}\\label{eq:dv_cost}\n",
    "    \\xi(\\mathbf{t}, y(\\mathbf{x})) = - \\sum_{c=1}^{C} t_{c} \\cdot \\log( y_c(\\mathbf{x}))\n",
    "\\end{equation}\n",
    "$$\n",
    "\n",
    "As we could expect, this is similar to the cross entropy function!\n",
    "\n",
    "We can also look at the derivative of $\\xi$ w.r.t. the output of the model $y(\\mathbf{x})$ (softmax function in our case):\n",
    "\n",
    "$$\n",
    "\\begin{equation}\n",
    "    \\frac{\\partial \\xi(\\mathbf{t}, y(\\mathbf{x}))}{\\partial y(\\mathbf{x})} = (-1)\\cdot\n",
    "        \\begin{bmatrix}\n",
    "            t_{c=1}/y_{c=1}(\\mathbf{x}) & \\cdots & t_{C}/y_{C}(\\mathbf{x})\n",
    "        \\end{bmatrix}_{[1 \\times C]}\\\\\n",
    "\\end{equation}\n",
    "$$\n",
    "\n",
    "For multiple samples $n$ (each has its own specific features $\\mathbf{x}_i$), you have [different strategies](https://stats.stackexchange.com/questions/183840/sum-or-average-of-gradients-in-mini-batch-gradient-decent/183990#183990).\n",
    "A basic strategy is to add each sample's fitness, you can do the same for the jacobian of the cost function."
   ]
  },
  {
   "cell_type": "markdown",
   "metadata": {
    "cell_marker": "'''",
    "lines_to_next_cell": 0
   },
   "source": [
    "## 1.4. Optimization"
   ]
  },
  {
   "cell_type": "markdown",
   "metadata": {},
   "source": [
    "\n",
    "The standard approach to extract the optimal weights for the model is through the gradient descent algorithm.\n",
    "Knowing the gradient of the cost function w.r.t each parameter, $\\frac{\\partial \\xi}{\\partial \\mathbf{w}}$, one can extract the optimal set of weights.\n",
    "This equation can be decomposed into multiple simpler derivatives by looking at how the data flows from the input $\\mathbf{x}$ to the model output $y(\\mathbf{x})$.\n",
    "\n",
    "We will design the complete equation later after defining the whole model. For now just remember that to compute $\\frac{\\partial \\xi}{\\partial \\mathbf{w}}$, we need\n",
    "the intermediate derivative of $\\xi$ w.r.t. the outputs $y(\\mathbf{x})$ that we just definied previously.\n",
    "\n",
    "The proces of calculating all the gradient and updating the parameters for the neural network is called the backpropagation."
   ]
  },
  {
   "cell_type": "markdown",
   "metadata": {
    "cell_marker": "'''",
    "lines_to_next_cell": 0
   },
   "source": [
    "## 2. Hands on"
   ]
  },
  {
   "cell_type": "markdown",
   "metadata": {
    "cell_marker": "'''",
    "lines_to_next_cell": 0
   },
   "source": [
    "### 2.1. Input data"
   ]
  },
  {
   "cell_type": "markdown",
   "metadata": {
    "cell_marker": "'''",
    "lines_to_next_cell": 0
   },
   "source": [
    "Our goal will be to predict three different classes $C : \\{c_a, c_b, c_c\\}$, given some data with two features $x_1$ and $x_2$.\n",
    "We suppose that the features can indeed be used to discriminate the samples, and are statistically independent.\n",
    "The data will be a $N\\times 3$ vector where each line is a sample $X = [x_1, x_2]$. The three classes are issued from three different noisy gaussians distribution."
   ]
  },
  {
   "cell_type": "code",
   "execution_count": 1,
   "metadata": {
    "title": "[code]"
   },
   "outputs": [],
   "source": [
    "### imports\n",
    "\n",
    "import numpy as np\n",
    "import copy\n",
    "import matplotlib\n",
    "from matplotlib.colors import colorConverter, ListedColormap\n",
    "import matplotlib.pyplot as plt\n",
    "from mpl_toolkits.mplot3d import Axes3D"
   ]
  },
  {
   "cell_type": "code",
   "execution_count": 2,
   "metadata": {
    "lines_to_next_cell": 0,
    "title": "[code]"
   },
   "outputs": [],
   "source": [
    "### Data modeling\n",
    "\n",
    "# Fix random state\n",
    "np.random.seed(0)\n",
    "\n",
    "# Distribution of the classes\n",
    "n = 20\n",
    "a_mean = [-3, 0]\n",
    "b_mean = [0, 0]\n",
    "c_mean = [2, 0]\n",
    "std_dev = 0.8\n",
    "\n",
    "# Generate samples from classes\n",
    "X_a = np.random.randn(n, 2) * std_dev + a_mean + np.random.rand(n,2)\n",
    "X_b = np.random.randn(n, 2) * std_dev + b_mean + np.random.rand(n,2)\n",
    "X_c = np.random.randn(n, 2) * std_dev + c_mean + np.random.rand(n,2) \n",
    "\n",
    "# Create inputs X and targets C\n",
    "X = np.vstack((X_a, X_b, X_c))\n",
    "C = np.vstack( (np.zeros((n,1), dtype=int), np.ones((n,1), dtype=int), 2*np.ones((n,1), dtype=int)) )\n",
    "\n",
    "# random permutation\n",
    "idx = np.arange(X.shape[0])\n",
    "idx = np.random.permutation(idx)\n",
    "X = X[idx,]\n",
    "C = C[idx,]\n",
    "\n",
    "# one hot encoding\n",
    "one_hot = np.zeros((len(C), np.max(C)+1))\n",
    "one_hot[np.arange(len(C)), C.flatten().tolist()] = 1\n",
    "C = one_hot"
   ]
  },
  {
   "cell_type": "markdown",
   "metadata": {
    "cell_marker": "'''",
    "lines_to_next_cell": 0
   },
   "source": [
    "Let's take a look at the data."
   ]
  },
  {
   "cell_type": "code",
   "execution_count": 3,
   "metadata": {
    "lines_to_next_cell": 0,
    "title": "[code]"
   },
   "outputs": [
    {
     "data": {
      "image/png": "[encoded data removed]",
      "text/plain": [
       "<Figure size 432x288 with 1 Axes>"
      ]
     },
     "metadata": {
      "needs_background": "light"
     },
     "output_type": "display_data"
    }
   ],
   "source": [
    "### Plot both classes on the x1, x2 space\n",
    "\n",
    "plt.plot(X_a[:,0], X_a[:,1], 'ro', label='class $c_a$')\n",
    "plt.plot(X_b[:,0], X_b[:,1], 'b*', label='class $c_b$')\n",
    "plt.plot(X_c[:,0], X_c[:,1], 'g+', label='class $c_c$')\n",
    "plt.grid()\n",
    "plt.legend()\n",
    "plt.xlabel('$x_1$')\n",
    "plt.ylabel('$x_2$')\n",
    "plt.title('Class a, b and c in the space $X$')\n",
    "plt.show()"
   ]
  },
  {
   "cell_type": "markdown",
   "metadata": {
    "cell_marker": "'''",
    "lines_to_next_cell": 0
   },
   "source": [
    "### 2.2. Model"
   ]
  },
  {
   "cell_type": "markdown",
   "metadata": {
    "cell_marker": "'''",
    "lines_to_next_cell": 0
   },
   "source": [
    "As the name suggests, a neural network is an architecture combining many neurons!\n",
    "Because the 2D input data is linearly separable, we will design a model with just one layer that has three neurons (one for each class). \n",
    "We will then compute the probabilities for the three classes through the softmax activation function, where the highest probability will gives us our class.\n",
    "\n",
    "<img src=\"imgs/nn/nn.svg\" alt=\"drawing\" width=\"500\"/>"
   ]
  },
  {
   "cell_type": "markdown",
   "metadata": {
    "cell_marker": "'''",
    "lines_to_next_cell": 0
   },
   "source": [
    "We will start by coding the different blocks that we will need for this task.\n",
    "First the perceptron model from eq.\\ref{eq:perceptron}, which will allow us to adjust our model (via the weight and bias parameters)."
   ]
  },
  {
   "cell_type": "code",
   "execution_count": 4,
   "metadata": {
    "lines_to_next_cell": 0,
    "title": "[code]"
   },
   "outputs": [],
   "source": [
    "# Neuron class definition\n",
    "class Neuron:\n",
    "  def __init__(self, weights, bias):\n",
    "    # first dim is the number of features\n",
    "    # second dim is the number of neurons \n",
    "    self.weights = weights\n",
    "    self.bias = bias\n",
    "\n",
    "  def output(self, input):\n",
    "    return input @ self.weights + self.bias\n",
    "\n",
    "  def grad(self, input):\n",
    "    D = np.kron(np.eye(self.weights.shape[1]), input)\n",
    "    return [D, np.eye(self.weights.shape[1])]"
   ]
  },
  {
   "cell_type": "markdown",
   "metadata": {
    "cell_marker": "'''",
    "lines_to_next_cell": 0
   },
   "source": [
    "Now we can code the softmax activation function using eq.\\ref{eq:softmax} (so we can predict the class), and its derivative (used for the gradient descent)."
   ]
  },
  {
   "cell_type": "code",
   "execution_count": 5,
   "metadata": {
    "lines_to_next_cell": 0,
    "title": "[code]"
   },
   "outputs": [],
   "source": [
    "# Activation function\n",
    "def softmax(input):\n",
    "    return np.exp(input) / np.sum(np.exp(input))\n",
    "\n",
    "# Derivative of the activation function\n",
    "def dv_softmax(input):\n",
    "    diag = softmax(input)*(1-softmax(input))\n",
    "    xj, xi = np.meshgrid(softmax(input), softmax(input))\n",
    "    jacob = (-1)*xi*xj\n",
    "    np.fill_diagonal(jacob, diag)\n",
    "\n",
    "    return jacob"
   ]
  },
  {
   "cell_type": "markdown",
   "metadata": {
    "cell_marker": "'''",
    "lines_to_next_cell": 0
   },
   "source": [
    "Let's take a look at the activation function:"
   ]
  },
  {
   "cell_type": "code",
   "execution_count": 6,
   "metadata": {
    "lines_to_next_cell": 0,
    "title": "[code]"
   },
   "outputs": [
    {
     "data": {
      "image/png": "[encoded data removed]",
      "text/plain": [
       "<Figure size 432x288 with 2 Axes>"
      ]
     },
     "metadata": {
      "needs_background": "light"
     },
     "output_type": "display_data"
    }
   ],
   "source": [
    "### Plot the softmax function (for one class)\n",
    "\n",
    "n_points=100\n",
    "x = np.linspace(-10, 10, n_points)\n",
    "xj, xi = np.meshgrid(x, x)\n",
    "y = np.zeros((100, 100, 2))\n",
    "\n",
    "# Softmax output\n",
    "for i in range(n_points):\n",
    "    for j in range(n_points):\n",
    "        y[i,j,:] = softmax(np.array([xj[i,j], xi[i,j]])).flatten()\n",
    "\n",
    "# Plot the activation for input\n",
    "fig = plt.figure()\n",
    "ax = fig.gca(projection='3d')\n",
    "surf = ax.plot_surface(xj, xi, y[:,:,0], cmap=\"plasma\")\n",
    "ax.view_init(elev=30, azim=70)\n",
    "cbar = fig.colorbar(surf)\n",
    "ax.set_xlabel('$x_1$')\n",
    "ax.set_ylabel('$x_2$')\n",
    "ax.set_zlabel('$y_1$')\n",
    "ax.set_title ('$y(\\mathbf{x})_1$')\n",
    "cbar.ax.set_ylabel('$y_1$', fontsize=12)\n",
    "plt.show()"
   ]
  },
  {
   "cell_type": "markdown",
   "metadata": {
    "cell_marker": "'''",
    "lines_to_next_cell": 0
   },
   "source": [
    "It is time to define the whole model described previously!\n",
    "Given the weights $\\mathbf{W}$ and bias $\\mathbf{b}$ from the three neurons, the output $y(\\mathbf{x})$ over the input vector $\\mathbf{x}=\\{x_1, x_2\\}$ is:\n",
    "\n",
    "$$\n",
    "\\begin{equation}\n",
    "\ty(\\mathbf{x}) = \\frac{1}{e^{x_1w_{11} + x_2w_{21} + b_1} + e^{x_1w_{12} + x_2w_{22} + b_2} + e^{x_1w_{13} + x_2w_{23} + b_3}}\n",
    "    \\begin{bmatrix}\n",
    "         e^{x_1w_{11} + x_2w_{21} + b_1}\\\\\n",
    "         e^{x_1w_{12} + x_2w_{22} + b_2}\\\\\n",
    "         e^{x_1w_{13} + x_2w_{23} + b_3}\\\\\n",
    "    \\end{bmatrix}\n",
    "\\end{equation}\n",
    "$$\n",
    "\n",
    "This is called the feed-forward pass of the model, i.e. the evaluation of the output(s) probability(ies) given the input(s)."
   ]
  },
  {
   "cell_type": "code",
   "execution_count": 7,
   "metadata": {
    "lines_to_next_cell": 1,
    "title": "[code]"
   },
   "outputs": [],
   "source": [
    "### feed-forward definition\n",
    "\n",
    "def feed_forward(inputs, weights, bias):\n",
    "    n_neurons = weights.shape[1]\n",
    "    n_samples = inputs.shape[0]\n",
    "    activations = np.zeros((n_samples, n_neurons))\n",
    "\n",
    "    features = Neuron(weights, bias).output(inputs)\n",
    "    for i in range(n_samples):\n",
    "        activations[i, :] = softmax(features[i, :])\n",
    "        \n",
    "    return activations"
   ]
  },
  {
   "cell_type": "markdown",
   "metadata": {
    "cell_marker": "'''",
    "lines_to_next_cell": 0
   },
   "source": [
    "Let's compute the feed-forward pass on our model, with zero bias and all weights $\\mathbf{w} = [1, 0.5]$."
   ]
  },
  {
   "cell_type": "code",
   "execution_count": 8,
   "metadata": {
    "title": "[code]"
   },
   "outputs": [
    {
     "data": {
      "text/plain": [
       "array([[0.33333333, 0.33333333, 0.33333333],\n",
       "       [0.33333333, 0.33333333, 0.33333333],\n",
       "       [0.33333333, 0.33333333, 0.33333333],\n",
       "       [0.33333333, 0.33333333, 0.33333333],\n",
       "       [0.33333333, 0.33333333, 0.33333333],\n",
       "       [0.33333333, 0.33333333, 0.33333333],\n",
       "       [0.33333333, 0.33333333, 0.33333333],\n",
       "       [0.33333333, 0.33333333, 0.33333333],\n",
       "       [0.33333333, 0.33333333, 0.33333333],\n",
       "       [0.33333333, 0.33333333, 0.33333333],\n",
       "       [0.33333333, 0.33333333, 0.33333333],\n",
       "       [0.33333333, 0.33333333, 0.33333333],\n",
       "       [0.33333333, 0.33333333, 0.33333333],\n",
       "       [0.33333333, 0.33333333, 0.33333333],\n",
       "       [0.33333333, 0.33333333, 0.33333333],\n",
       "       [0.33333333, 0.33333333, 0.33333333],\n",
       "       [0.33333333, 0.33333333, 0.33333333],\n",
       "       [0.33333333, 0.33333333, 0.33333333],\n",
       "       [0.33333333, 0.33333333, 0.33333333],\n",
       "       [0.33333333, 0.33333333, 0.33333333],\n",
       "       [0.33333333, 0.33333333, 0.33333333],\n",
       "       [0.33333333, 0.33333333, 0.33333333],\n",
       "       [0.33333333, 0.33333333, 0.33333333],\n",
       "       [0.33333333, 0.33333333, 0.33333333],\n",
       "       [0.33333333, 0.33333333, 0.33333333],\n",
       "       [0.33333333, 0.33333333, 0.33333333],\n",
       "       [0.33333333, 0.33333333, 0.33333333],\n",
       "       [0.33333333, 0.33333333, 0.33333333],\n",
       "       [0.33333333, 0.33333333, 0.33333333],\n",
       "       [0.33333333, 0.33333333, 0.33333333],\n",
       "       [0.33333333, 0.33333333, 0.33333333],\n",
       "       [0.33333333, 0.33333333, 0.33333333],\n",
       "       [0.33333333, 0.33333333, 0.33333333],\n",
       "       [0.33333333, 0.33333333, 0.33333333],\n",
       "       [0.33333333, 0.33333333, 0.33333333],\n",
       "       [0.33333333, 0.33333333, 0.33333333],\n",
       "       [0.33333333, 0.33333333, 0.33333333],\n",
       "       [0.33333333, 0.33333333, 0.33333333],\n",
       "       [0.33333333, 0.33333333, 0.33333333],\n",
       "       [0.33333333, 0.33333333, 0.33333333],\n",
       "       [0.33333333, 0.33333333, 0.33333333],\n",
       "       [0.33333333, 0.33333333, 0.33333333],\n",
       "       [0.33333333, 0.33333333, 0.33333333],\n",
       "       [0.33333333, 0.33333333, 0.33333333],\n",
       "       [0.33333333, 0.33333333, 0.33333333],\n",
       "       [0.33333333, 0.33333333, 0.33333333],\n",
       "       [0.33333333, 0.33333333, 0.33333333],\n",
       "       [0.33333333, 0.33333333, 0.33333333],\n",
       "       [0.33333333, 0.33333333, 0.33333333],\n",
       "       [0.33333333, 0.33333333, 0.33333333],\n",
       "       [0.33333333, 0.33333333, 0.33333333],\n",
       "       [0.33333333, 0.33333333, 0.33333333],\n",
       "       [0.33333333, 0.33333333, 0.33333333],\n",
       "       [0.33333333, 0.33333333, 0.33333333],\n",
       "       [0.33333333, 0.33333333, 0.33333333],\n",
       "       [0.33333333, 0.33333333, 0.33333333],\n",
       "       [0.33333333, 0.33333333, 0.33333333],\n",
       "       [0.33333333, 0.33333333, 0.33333333],\n",
       "       [0.33333333, 0.33333333, 0.33333333],\n",
       "       [0.33333333, 0.33333333, 0.33333333]])"
      ]
     },
     "execution_count": 8,
     "metadata": {},
     "output_type": "execute_result"
    }
   ],
   "source": [
    "# Feedforward pass\n",
    "\n",
    "weights = np.array([[1, 1, 1], [0.5, 0.5, 0.5]])\n",
    "bias = np.array([0, 0, 0])\n",
    "feed_forward(inputs=X, weights=weights, bias=bias)"
   ]
  },
  {
   "cell_type": "markdown",
   "metadata": {
    "cell_marker": "'''",
    "lines_to_next_cell": 0
   },
   "source": [
    "The output probability is $33,3\\%$ for each class!\n",
    "This is because each neuron contribute equally to the output (they have the same weights), so there is no information in this model. "
   ]
  },
  {
   "cell_type": "markdown",
   "metadata": {
    "cell_marker": "'''",
    "lines_to_next_cell": 0
   },
   "source": [
    "### 2.3. Parameter optimization"
   ]
  },
  {
   "cell_type": "markdown",
   "metadata": {
    "cell_marker": "'''",
    "lines_to_next_cell": 0
   },
   "source": [
    "We will use the gradient descent to infer the best model paramaters.\n",
    "Even if we will compute the gradient by hand for the purpose of this example, it is of course not feasible in practice when you have billions of parameters.\n",
    "Estimating efficiently the derivative of a (very) deep neural network numerically is possible thanks to a big achievement in AI which is [automatic derivatives](http://ceres-solver.org/automatic_derivatives.html).\n",
    "\n",
    "Given the ground truth class $\\mathbf{t}$ and the model output $\\mathbf{y}$ (which is the input of the cost function), we can code the cost function from eq.\\ref{eq:cost} and its derivative with eq.\\ref{eq:dv_cost} to extract the optimal parameters."
   ]
  },
  {
   "cell_type": "code",
   "execution_count": 9,
   "metadata": {
    "lines_to_next_cell": 1,
    "title": "[code]"
   },
   "outputs": [],
   "source": [
    "# Optimization of the model's parameters\n",
    "\n",
    "# cost function given ground truth t and model output y (here refered as x)\n",
    "def cost_function(input, t):\n",
    "    return (-1)*np.sum(t * np.log(input))\n",
    "\n",
    "# derivative of the cost function for gradient descent\n",
    "def dv_cost_function(input, t):\n",
    "    return (-1)*(t/input)"
   ]
  },
  {
   "cell_type": "markdown",
   "metadata": {},
   "source": [
    "\n",
    "The derivative of the cost function w.r.t the output of the model $\\frac{\\partial \\xi}{\\partial \\mathbf{y}}$ is not sufficient alone.\n",
    "Remember, for the gradient descent we need the derivative of the cost function w.r.t the output of the model parameters $\\frac{\\partial \\xi}{\\partial \\mathbf{w}}$.\n",
    "Using the [chain rule](https://en.wikipedia.org/wiki/Chain_rule), one can decompose this derivative into \"smaller\" consecutive ones, from the output of the network $\\mathbf{y}$ to the input $\\mathbf{x}$:\n",
    "\n",
    "$$\n",
    "\\begin{equation}\n",
    "  \\frac{\\partial \\xi(\\mathbf{t}, y(\\mathbf{x}))}{\\partial \\mathbf{W}} = \\frac{\\partial \\xi(\\mathbf{t}, y(\\mathbf{x}))}{\\partial y(\\mathbf{x})} \\frac{\\partial y(\\mathbf{x})}{\\partial z(\\mathbf{x})} \\frac{\\partial z(\\mathbf{x})}{\\partial \\mathbf{W}},\n",
    "\\end{equation}\n",
    "$$\n",
    "\n",
    "where $z(\\mathbf{x})$ is the outputs of the neurons (just before the activation function).\n",
    "The same derivative formula stands for the bias parameters $\\mathbf{b}$.\n",
    "\n",
    "The process of computing the gradient for a given neural network is called the backward pass (more often refered as backpropagation).\n",
    "Let's create a new class for our model,"
   ]
  },
  {
   "cell_type": "code",
   "execution_count": 10,
   "metadata": {
    "lines_to_next_cell": 1,
    "title": "[code]"
   },
   "outputs": [],
   "source": [
    "### Model class definition\n",
    "class LinearModel:\n",
    "    def __init__(self, weights, bias):\n",
    "        self.weights = weights\n",
    "        self.bias = bias\n",
    "        self.n_neurons = weights.shape[1]\n",
    "\n",
    "    def update_params(self, weights=None, bias=None):\n",
    "        if weights is not None:\n",
    "            self.weights = weights\n",
    "        if bias is not None:\n",
    "            self.bias = bias\n",
    "\n",
    "    def feed_forward(self, inputs):\n",
    "        n_samples = inputs.shape[0]\n",
    "        activations = np.zeros((n_samples, self.n_neurons))\n",
    "\n",
    "        features = Neuron(self.weights, self.bias).output(inputs)\n",
    "        for i in range(n_samples):\n",
    "            activations[i, :] = softmax(features[i, :])\n",
    "            \n",
    "        return activations\n",
    "\n",
    "    def back_propagation(self, inputs, t):\n",
    "        n_samples = inputs.shape[0]\n",
    "        g_w = np.zeros((self.weights.shape[0], self.weights.shape[1], n_samples))\n",
    "        g_b = np.zeros((self.weights.shape[1], n_samples))\n",
    "\n",
    "        feed_forwards = self.feed_forward(inputs)\n",
    "        neuron = Neuron(self.weights, self.bias)\n",
    "        for i in range(n_samples):\n",
    "            grad_cost = dv_cost_function(feed_forwards[i, :], t[i, :])\n",
    "            grad_activation = dv_softmax(neuron.output(inputs[i, :]))\n",
    "            grad_neuron = neuron.grad(inputs[i, :])\n",
    "            # here we resize the jacobian w.r.t. W so it can be easily substracted to W\n",
    "            g_w[:, :, i] = np.reshape(grad_cost @ grad_activation @ grad_neuron[0], self.weights.shape, order='F')\n",
    "            g_b[:, i] = grad_cost @ grad_activation @ grad_neuron[1]\n",
    "        \n",
    "        # sum of each sample's gradient\n",
    "        return [np.sum(g_w, axis=-1), np.sum(g_b, axis=-1)]"
   ]
  },
  {
   "cell_type": "markdown",
   "metadata": {
    "cell_marker": "'''",
    "lines_to_next_cell": 0
   },
   "source": [
    "Now, we can try to update our parameters and compute the new probabilites."
   ]
  },
  {
   "cell_type": "code",
   "execution_count": 11,
   "metadata": {
    "title": "[code]"
   },
   "outputs": [
    {
     "data": {
      "text/plain": [
       "array([[1.00000000e+000, 2.18897098e-053, 3.86972453e-088],\n",
       "       [1.83893138e-126, 4.63180127e-050, 1.00000000e+000],\n",
       "       [6.72623122e-041, 1.90754792e-013, 1.00000000e+000],\n",
       "       [1.00000000e+000, 2.18823989e-051, 2.53382152e-093],\n",
       "       [9.99996472e-001, 2.66593897e-006, 8.62099197e-007],\n",
       "       [1.34019568e-119, 9.37291478e-050, 1.00000000e+000],\n",
       "       [9.99999947e-001, 5.24797675e-008, 9.26893852e-010],\n",
       "       [1.00000000e+000, 1.61700675e-032, 3.59585167e-053],\n",
       "       [5.54852239e-043, 1.76871610e-018, 1.00000000e+000],\n",
       "       [5.32618861e-084, 2.33883378e-037, 1.00000000e+000],\n",
       "       [1.38369979e-059, 1.41578864e-020, 1.00000000e+000],\n",
       "       [1.30450301e-110, 6.68934311e-041, 1.00000000e+000],\n",
       "       [1.00000000e+000, 2.00196074e-029, 1.35305807e-055],\n",
       "       [1.00000000e+000, 4.13133909e-030, 3.99483019e-057],\n",
       "       [1.39798246e-170, 6.99345017e-065, 1.00000000e+000],\n",
       "       [7.62449988e-045, 7.19330957e-017, 1.00000000e+000],\n",
       "       [1.70476439e-100, 4.90001706e-043, 1.00000000e+000],\n",
       "       [1.00000000e+000, 1.00320346e-029, 9.80030962e-062],\n",
       "       [1.00000000e+000, 1.07104756e-096, 1.22186184e-164],\n",
       "       [1.00000000e+000, 3.32295122e-048, 2.52721574e-080],\n",
       "       [1.06216301e-097, 7.35670171e-041, 1.00000000e+000],\n",
       "       [3.67243700e-061, 7.02709582e-027, 1.00000000e+000],\n",
       "       [2.51367362e-135, 6.46563062e-053, 1.00000000e+000],\n",
       "       [2.61598282e-053, 1.37541638e-020, 1.00000000e+000],\n",
       "       [1.71227095e-083, 7.11752357e-035, 1.00000000e+000],\n",
       "       [2.33374097e-071, 5.93010236e-030, 1.00000000e+000],\n",
       "       [1.00000000e+000, 9.59458261e-067, 2.92405415e-110],\n",
       "       [1.00000000e+000, 1.20037907e-027, 1.43023527e-049],\n",
       "       [7.33687574e-045, 1.66389239e-014, 1.00000000e+000],\n",
       "       [1.34520001e-024, 1.84116207e-007, 9.99999816e-001],\n",
       "       [2.11919553e-064, 4.43836272e-022, 1.00000000e+000],\n",
       "       [1.00000000e+000, 1.66147846e-048, 2.61316307e-077],\n",
       "       [1.18403709e-144, 4.81973027e-058, 1.00000000e+000],\n",
       "       [3.16663031e-048, 2.03323019e-020, 1.00000000e+000],\n",
       "       [1.86682595e-094, 1.17201777e-033, 1.00000000e+000],\n",
       "       [1.00000000e+000, 1.30221183e-010, 9.43522069e-027],\n",
       "       [4.08824710e-057, 2.25630225e-015, 1.00000000e+000],\n",
       "       [4.91208029e-094, 4.36511322e-035, 1.00000000e+000],\n",
       "       [9.98566545e-001, 1.43345459e-003, 1.61962958e-014],\n",
       "       [4.62552806e-033, 5.21292619e-006, 9.99994787e-001],\n",
       "       [3.05527173e-097, 8.29663347e-032, 1.00000000e+000],\n",
       "       [4.62810114e-058, 8.79882546e-022, 1.00000000e+000],\n",
       "       [3.17685799e-022, 3.61920398e-004, 9.99638080e-001],\n",
       "       [9.81432652e-100, 1.83979279e-035, 1.00000000e+000],\n",
       "       [9.97650514e-001, 2.34948610e-003, 1.93467597e-010],\n",
       "       [1.00000000e+000, 3.26076583e-055, 4.42109210e-095],\n",
       "       [8.97319446e-024, 1.79787067e-007, 9.99999820e-001],\n",
       "       [9.99945769e-001, 5.42311684e-005, 2.88724821e-010],\n",
       "       [8.55340506e-064, 4.27764745e-021, 1.00000000e+000],\n",
       "       [1.00000000e+000, 2.26983276e-085, 1.17553878e-135],\n",
       "       [1.00000000e+000, 8.32109455e-016, 4.05561921e-022],\n",
       "       [9.35070044e-133, 6.85648631e-053, 1.00000000e+000],\n",
       "       [2.41141789e-047, 6.44203155e-017, 1.00000000e+000],\n",
       "       [1.00000000e+000, 1.24242362e-045, 4.51207052e-078],\n",
       "       [1.00000000e+000, 1.32116287e-072, 1.76190579e-125],\n",
       "       [1.00000000e+000, 3.35539117e-052, 6.05543518e-088],\n",
       "       [4.02687989e-059, 1.32740346e-026, 1.00000000e+000],\n",
       "       [1.00000000e+000, 1.42411499e-037, 1.79253425e-063],\n",
       "       [1.00000000e+000, 3.69158852e-013, 1.01124852e-030],\n",
       "       [1.00000000e+000, 1.95193804e-059, 3.07220245e-101]])"
      ]
     },
     "execution_count": 11,
     "metadata": {},
     "output_type": "execute_result"
    }
   ],
   "source": [
    "# backpropagation\n",
    "\n",
    "weights = np.array([[1, 1, 1], [0.5, 0.5, 0.5]])\n",
    "bias = np.array([0, 0, 0])\n",
    "my_model = LinearModel(weights=weights, bias=bias)\n",
    "weights = weights - my_model.back_propagation(inputs=X, t=C)[0]\n",
    "bias = bias - my_model.back_propagation(inputs=X, t=C)[1]\n",
    "my_model.update_params(weights, bias)\n",
    "my_model.feed_forward(X)"
   ]
  },
  {
   "cell_type": "markdown",
   "metadata": {
    "cell_marker": "'''",
    "lines_to_next_cell": 0
   },
   "source": [
    "We see that updating the parameters starts to give differents probabilities for each sample.\n",
    "In the next section, we will update the parameters inside a loop to gradually improve our weights."
   ]
  },
  {
   "cell_type": "markdown",
   "metadata": {
    "cell_marker": "'''",
    "lines_to_next_cell": 0
   },
   "source": [
    "## 3. Results"
   ]
  },
  {
   "cell_type": "markdown",
   "metadata": {
    "cell_marker": "'''",
    "lines_to_next_cell": 0
   },
   "source": [
    "### 3.1 Cost function"
   ]
  },
  {
   "cell_type": "markdown",
   "metadata": {
    "cell_marker": "'''",
    "lines_to_next_cell": 0
   },
   "source": [
    "We will first check out the cost at each epoch (step) during the training of the model.\n",
    "An important parameter is the learning rate as it impact the size of the gradient step at each iteration,\n",
    "lot of noise are introduced during training if it is too large. Chossing the optimal learning rate\n",
    "is part of what we call hyperparameter selection.\n",
    "\n",
    "Here, we will fix it at $\\Lambda=0.025$."
   ]
  },
  {
   "cell_type": "code",
   "execution_count": 12,
   "metadata": {
    "title": "[code]"
   },
   "outputs": [],
   "source": [
    "# learning phase\n",
    "\n",
    "# hyper-parameters and model instanciation\n",
    "lr = 0.025\n",
    "n_iter = 50\n",
    "weights = np.array([[1, 1, 1], [0.5, 0.5, 0.5]])\n",
    "bias = np.array([0, 0, 0])\n",
    "my_model = LinearModel(weights=weights, bias=bias)\n",
    "cost=np.array([])\n",
    "for i in range(n_iter):\n",
    "    # backpropagation step\n",
    "    weights = weights - lr*my_model.back_propagation(inputs=X, t=C)[0]\n",
    "    bias = bias - lr*my_model.back_propagation(inputs=X, t=C)[1]\n",
    "    my_model.update_params(weights=weights, bias=bias)\n",
    "    # cost function\n",
    "    probs = my_model.feed_forward(X)\n",
    "    cost = np.append(cost, cost_function(input=probs, t=C))"
   ]
  },
  {
   "cell_type": "code",
   "execution_count": 13,
   "metadata": {
    "title": "[code]"
   },
   "outputs": [
    {
     "data": {
      "image/png": "[encoded data removed]",
      "text/plain": [
       "<Figure size 432x288 with 1 Axes>"
      ]
     },
     "metadata": {
      "needs_background": "light"
     },
     "output_type": "display_data"
    }
   ],
   "source": [
    "### plotting cost\n",
    "plt.plot(cost, 'b-+')\n",
    "plt.grid()\n",
    "plt.xlabel('iter')\n",
    "plt.ylabel('cost')\n",
    "plt.title('Cost value over time')\n",
    "plt.show()"
   ]
  },
  {
   "cell_type": "markdown",
   "metadata": {
    "cell_marker": "'''",
    "lines_to_next_cell": 0
   },
   "source": [
    "### 3.2 Qualitative analysis: decision function"
   ]
  },
  {
   "cell_type": "markdown",
   "metadata": {
    "cell_marker": "'''",
    "lines_to_next_cell": 0
   },
   "source": [
    "Now let's take a look at the decision boundary of our classifier, by creating inputs ranging from $-5$ to $5$ in $x_1$ and $x_2$ space.\n",
    "It can be interresting to see at the same time the importance of the bias parameter."
   ]
  },
  {
   "cell_type": "code",
   "execution_count": 14,
   "metadata": {
    "lines_to_next_cell": 0,
    "title": "[code]"
   },
   "outputs": [
    {
     "data": {
      "image/png": "[encoded data removed]",
      "text/plain": [
       "<Figure size 432x288 with 2 Axes>"
      ]
     },
     "metadata": {
      "needs_background": "light"
     },
     "output_type": "display_data"
    }
   ],
   "source": [
    "### Decision boundary on the x1, x2 space\n",
    "\n",
    "# decision function\n",
    "n_samples = 200\n",
    "Xl = np.linspace(-5, 5, num=n_samples)\n",
    "Xm, Ym = np.meshgrid(Xl, Xl)\n",
    "Df = np.zeros((n_samples, n_samples))\n",
    "for i in range(n_samples):\n",
    "    for j in range(n_samples):\n",
    "        prob = my_model.feed_forward( np.array([Xm[i, j], Ym[i, j]], ndmin=2) )\n",
    "        Df[i, j] = np.argmax(prob, axis=1)\n",
    "\n",
    "cmap = ListedColormap([\n",
    "        colorConverter.to_rgba('r', alpha=0.3),\n",
    "        colorConverter.to_rgba('b', alpha=0.3),\n",
    "        colorConverter.to_rgba('g', alpha=0.3)])\n",
    "plt.subplot(1, 2, 1)\n",
    "plt.contourf(Xm, Ym, Df, cmap=cmap)\n",
    "\n",
    "# ground truth for the inputs\n",
    "plt.plot(X_a[:,0], X_a[:,1], 'ro', label='class $c_a$')\n",
    "plt.plot(X_b[:,0], X_b[:,1], 'b*', label='class $c_b$')\n",
    "plt.plot(X_c[:,0], X_c[:,1], 'g+', label='class $c_c$')\n",
    "plt.grid()\n",
    "plt.legend()\n",
    "plt.xlabel('$x_1$')\n",
    "plt.ylabel('$x_2$')\n",
    "plt.title('Model with bias')\n",
    "\n",
    "# decision function for model without bias\n",
    "my_model_without_bias = copy.deepcopy(my_model)\n",
    "my_model_without_bias.update_params(bias=np.array([0, 0, 0]))\n",
    "for i in range(n_samples):\n",
    "    for j in range(n_samples):\n",
    "        prob = my_model_without_bias.feed_forward( np.array([Xm[i, j], Ym[i, j]], ndmin=2) )\n",
    "        Df[i, j] = np.argmax(prob, axis=1)\n",
    "\n",
    "cmap = ListedColormap([\n",
    "        colorConverter.to_rgba('r', alpha=0.3),\n",
    "        colorConverter.to_rgba('b', alpha=0.3),\n",
    "        colorConverter.to_rgba('g', alpha=0.3)])\n",
    "plt.subplot(1, 2, 2)\n",
    "plt.contourf(Xm, Ym, Df, cmap=cmap)\n",
    "\n",
    "# ground truth for the inputs\n",
    "plt.plot(X_a[:,0], X_a[:,1], 'ro', label='class $c_a$')\n",
    "plt.plot(X_b[:,0], X_b[:,1], 'b*', label='class $c_b$')\n",
    "plt.plot(X_c[:,0], X_c[:,1], 'g+', label='class $c_c$')\n",
    "plt.grid()\n",
    "plt.legend()\n",
    "plt.xlabel('$x_1$')\n",
    "plt.ylabel('$x_2$')\n",
    "plt.title('Model without bias')\n",
    "plt.show()"
   ]
  },
  {
   "cell_type": "markdown",
   "metadata": {
    "cell_marker": "'''",
    "lines_to_next_cell": 0
   },
   "source": [
    "It is clear that without the bias, some blue crosses are not well categorized."
   ]
  },
  {
   "cell_type": "markdown",
   "metadata": {
    "cell_marker": "'''",
    "lines_to_next_cell": 0
   },
   "source": [
    "### 3.3 Quantitative analysis: accuracy"
   ]
  },
  {
   "cell_type": "markdown",
   "metadata": {
    "cell_marker": "'''",
    "lines_to_next_cell": 0
   },
   "source": [
    "By comparing the accuracy between the model with and whithout bias, the difference is even more drastic."
   ]
  },
  {
   "cell_type": "code",
   "execution_count": 15,
   "metadata": {
    "lines_to_next_cell": 0,
    "title": "[code]"
   },
   "outputs": [
    {
     "name": "stdout",
     "output_type": "stream",
     "text": [
      "Accuracy for model with bias: 0.88\n",
      "Accuracy for model without bias: 0.70\n"
     ]
    }
   ],
   "source": [
    "# compute probabilities\n",
    "\n",
    "probs = my_model.feed_forward(X)\n",
    "probs_no_bias = my_model_without_bias.feed_forward(X)\n",
    "Y = np.argmax(probs, axis=1)\n",
    "Y_no_bias = np.argmax(probs_no_bias, axis=1)\n",
    "Y_truth = np.argmax(C, axis=1)\n",
    "acc_Y = np.sum(Y == Y_truth)/len(Y_truth)\n",
    "acc_Y_no_bias = np.sum(Y_no_bias == Y_truth)/len(Y_truth)\n",
    "\n",
    "print(\"Accuracy for model with bias: %.2f\" %acc_Y)\n",
    "print(\"Accuracy for model without bias: %.2f\" %acc_Y_no_bias)"
   ]
  },
  {
   "cell_type": "markdown",
   "metadata": {
    "cell_marker": "'''",
    "lines_to_next_cell": 0
   },
   "source": [
    "Indeed, having the bias allows the model to have a better decision point since the bias offset the decision function."
   ]
  },
  {
   "cell_type": "markdown",
   "metadata": {
    "cell_marker": "'''",
    "lines_to_next_cell": 0
   },
   "source": [
    "## Conclusion"
   ]
  },
  {
   "cell_type": "markdown",
   "metadata": {
    "cell_marker": "'''",
    "lines_to_next_cell": 0
   },
   "source": [
    "We made our own neural network from end to end, isn't that fantastic!?\n",
    "We saw the different and fundamental steps, and how to compute the gradient w.r.t the parameters. The data used here was quite simple since it was highly linear separable \n",
    "in space (gaussian), but what happened if this is not the case?\n",
    "If you are curious, check now [the second part]({% post_url 2000-01-01-nn_non_linear %}) on classifying non-linear data!"
   ]
  },
  {
   "cell_type": "markdown",
   "metadata": {
    "lines_to_next_cell": 0
   },
   "source": []
  },
  {
   "cell_type": "markdown",
   "metadata": {
    "cell_marker": "'''",
    "lines_to_next_cell": 0
   },
   "source": [
    "## To go further"
   ]
  },
  {
   "cell_type": "markdown",
   "metadata": {
    "cell_marker": "'''",
    "lines_to_next_cell": 0
   },
   "source": [
    "A first and one of the most important ressource is the official [deep learning book](https://www.deeplearningbook.org/),\n",
    "co-authored by the people who put forward this field. More on the perceptron mode in [this book](https://www.pearsonhighered.com/assets/samplechapter/0/1/3/1/0131471392.pdf).\n",
    "Check this nice overview of how one can compute derivatives automatically [here](http://ceres-solver.org/derivatives.html), and most important [for deep learning](http://ceres-solver.org/automatic_derivatives.html)."
   ]
  },
  {
   "cell_type": "markdown",
   "metadata": {
    "cell_marker": "'''",
    "lines_to_next_cell": 0
   },
   "source": [
    "## Acknowledgements"
   ]
  },
  {
   "cell_type": "markdown",
   "metadata": {
    "cell_marker": "'''",
    "lines_to_next_cell": 0
   },
   "source": [
    "Thanks to peter roelants who owns a nice blog on [machine learning](https://peterroelants.github.io/posts/neural-network-implementation-part01/).\n",
    "It helped me to have deeper understanding behind the neural network mathematics. Some code were also inspired from his work.\n",
    "To design the networks, I used [this web tool](https://alexlenail.me/NN-SVG/index.html) developped by Alexander Lenail. There are also other styles available: LeNet or AlexNet."
   ]
  },
  {
   "cell_type": "markdown",
   "metadata": {
    "cell_marker": "'''",
    "lines_to_next_cell": 0
   },
   "source": [
    "## Tags"
   ]
  },
  {
   "cell_type": "markdown",
   "metadata": {
    "cell_marker": "'''"
   },
   "source": [
    "Data-Science; Linear-Algebra; Optimization"
   ]
  }
 ],
 "metadata": {
  "jupytext": {
   "cell_metadata_filter": "title,-all"
  },
  "kernelspec": {
   "display_name": "Python 3.6.9 64-bit",
   "language": "python",
   "name": "python36964bit4f06cc80e5be4040ac10d7a80bb38421"
  },
  "language_info": {
   "codemirror_mode": {
    "name": "ipython",
    "version": 3
   },
   "file_extension": ".py",
   "mimetype": "text/x-python",
   "name": "python",
   "nbconvert_exporter": "python",
   "pygments_lexer": "ipython3",
   "version": "3.6.9"
  }
 },
 "nbformat": 4,
 "nbformat_minor": 2
}
