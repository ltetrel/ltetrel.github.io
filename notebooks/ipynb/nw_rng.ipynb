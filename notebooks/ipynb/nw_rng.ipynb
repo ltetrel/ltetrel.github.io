{
 "cells": [
  {
   "cell_type": "markdown",
   "metadata": {
    "cell_marker": "'''",
    "lines_to_next_cell": 0
   },
   "source": [
    "# New World™ gathering luck"
   ]
  },
  {
   "cell_type": "markdown",
   "metadata": {
    "cell_marker": "'''",
    "lines_to_next_cell": 0
   },
   "source": [
    "That post should help you understand what are the requirements to gather a rare ressource in New World."
   ]
  },
  {
   "cell_type": "markdown",
   "metadata": {
    "cell_marker": "'''",
    "lines_to_next_cell": 0
   },
   "source": [
    "## tl;dr\n",
    "1. New World RNG is based (mostly) on a d100k roll\n",
    "2. Bernoulli distribution can be used to compute the probability to get rare ressources\n",
    "3. [Link to my gathering luck calculator](/assets/tools/nw_gather_calculator.html)\n",
    "\n",
    "## Introduction\n",
    "\n",
    "New World™ is a massively multiplayer online role-playing game (MMORPG) developed by Amazon Games Orange County. In this game, you play as a colonizer in the mid-seventeenth century.\n",
    "Your goal is to survive in this island by crafting, trading, and killings opponents (be it monsters or other players), all of that in an atmosphere surrounded by mystery and magic (powered by the \"azoth\" ressource).\n",
    "\n",
    "To be able to perform well in this universe, you need to constantly improve yourself by upgrading your armor, buying consummmables or leveling-up...\n",
    "This is why trading and crafting is so critical in MMOs, and more specifically collecting ressources (ores, herbs etc...) and their rare version.\n",
    "One crucial component is the random number generator (RNG) running on the server, this is what determine your loot.\n",
    "\n",
    "## RNG in New World\n",
    "\n",
    "I will not elaborate too much on this since Mala Zedik already made a [great post on this](https://www.newworldpacifist.com/resources/rng-explained) (btw good luck for his \"pacifist\" run!).\n",
    "Basically to summarize it, each time you gather/kill something, you will roll a \"virtual\" dice. The number of faces depends on the thing your are trying to loot on (monster, chest...),\n",
    "and 82% of them are based on a 100 000 dice roll (ROL). If you reach a certain threshold, then you are elligible to gain that rare loot, if not then too bad!\n",
    "\n",
    "Given the probability of obtaining one (rare) ressource,\n",
    "one can easilly infer how much minimum of tries he needs to perform (i.e. how many monster needs to be killed/ ressources needs to be gathered) using the Bernoulli distribution.\n",
    "\n",
    "## Bernoulli distribution\n",
    "\n",
    "We define the probability $p$ as the probability to get the rare ressource, and $q= 1-p$, the probability to miss the rare ressource.\n",
    "Let $X$ be a random variable, following $n$ Bernoulli trials and given that dice rolls are independents, the probability for exactly $k$ successes (i.e. successfull rare loots) is <cite>dodge2008concise</cite>:\n",
    "\n",
    "\\begin{equation}\n",
    "P(X = k) = \\binom{n}{k} \\cdot p^kq^{n - k}\n",
    "\\end{equation}\n",
    "\n",
    "In our context, we don't need exactly $k$ drops, we are interrested in getting at least $k$ ressources ( if we have more then this is better).\n",
    "To model this we need to define the cummulative distribution $P(X \\ge k)$, that can be formulated as a complement probability:\n",
    "\n",
    "\\begin{equation}\n",
    "P(X \\ge k) = 1 - P(X < k)\n",
    "\\end{equation}\n",
    "\n",
    "This is actually much more convenient to use, for example to compute the probability to get at least $k=1$ rare ressource you can simply define:\n",
    "\n",
    "\\begin{equation}\n",
    "P(X \\ge 1) = 1 - P(X < 1) = 1 - P(X = 0) = 1 - q^n\n",
    "\\end{equation}\n",
    "\n",
    "Instead of:\n",
    "\n",
    "\\begin{equation}\n",
    "P(X \\ge 1) = P(X = 1) + P(X = 2) + P(X = 3) \\dots\n",
    "\\end{equation}\n",
    "\n",
    "Where you would need to compute the outcome for almost all events (i.e. probability of 1 drop or 2 drops or 3 drops etc...).\n",
    "\n",
    "As you can see with the Bernoulli formula, it will never be possible to achieve 100% accuracy (if $p < 1$), that is why we can define an \"acceptable\" error $\\alpha$.\n",
    "For example, we can compute the minimum number of trials to get at least one ressource ($k=1$), with a 95% confidence ($\\alpha=0.05$).\n",
    "In python, the following algorithm should do the job:"
   ]
  },
  {
   "cell_type": "code",
   "execution_count": 1,
   "metadata": {
    "lines_to_next_cell": 0,
    "title": "[code]"
   },
   "outputs": [
    {
     "name": "stdout",
     "output_type": "stream",
     "text": [
      "Minimal tries:  59\n"
     ]
    }
   ],
   "source": [
    "import math\n",
    "import scipy\n",
    "import scipy.special\n",
    "\n",
    "ressMin = 1 #minimum number of resources to drop\n",
    "probTrue = 0.05 #probability to drop one ressource\n",
    "alpha = 0.05 #acceptance error\n",
    "#reduce computation usage\n",
    "ressMin = min(ressMin, 1e3)\n",
    "max_iters = int(1e4)\n",
    "\n",
    "for n in range(max_iters):\n",
    "  p_bernoulli = 0.\n",
    "  for k in range(ressMin):\n",
    "    p_bernoulli = (scipy.special.comb(n, k) * math.pow(probTrue, k) * math.pow(1 - probTrue, n - k)) + p_bernoulli\n",
    "  if (p_bernoulli < (alpha - 1e-6)):\n",
    "    break\n",
    "\n",
    "print(\"Minimal tries: \", n)"
   ]
  },
  {
   "cell_type": "markdown",
   "metadata": {
    "cell_marker": "'''",
    "lines_to_next_cell": 0
   },
   "source": [
    "## Gathering luck calculator tool\n",
    "\n",
    "I implemented [a tool](/assets/tools/nw_gather_calculator.html) that you can use to check your probability of dropping something.\n",
    "\n",
    ">**Warning**  \n",
    ">At the time of writing, luck bonuses are based on version 1.0.2.\n",
    ">\n",
    ">The true loot luck is based from [Mala Zedik post](https://www.newworldpacifist.com/resources/rng-explained) from the closed Beta."
   ]
  },
  {
   "cell_type": "markdown",
   "metadata": {
    "cell_marker": "'''",
    "lines_to_next_cell": 0
   },
   "source": [
    "# Tags"
   ]
  },
  {
   "cell_type": "markdown",
   "metadata": {
    "cell_marker": "'''"
   },
   "source": [
    "Data-Science; Statistics; Video-Games;"
   ]
  }
 ],
 "metadata": {
  "jupytext": {
   "cell_metadata_filter": "title,-all"
  },
  "kernelspec": {
   "display_name": "Python 3.6.9 64-bit",
   "language": "python",
   "name": "python36964bit4f06cc80e5be4040ac10d7a80bb38421"
  },
  "language_info": {
   "codemirror_mode": {
    "name": "ipython",
    "version": 3
   },
   "file_extension": ".py",
   "mimetype": "text/x-python",
   "name": "python",
   "nbconvert_exporter": "python",
   "pygments_lexer": "ipython3",
   "version": "3.6.9"
  }
 },
 "nbformat": 4,
 "nbformat_minor": 2
}
