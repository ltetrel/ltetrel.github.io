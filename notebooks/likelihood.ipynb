{
 "cells": [
  {
   "cell_type": "markdown",
   "metadata": {},
   "source": [
    "# What is the purpose of likelihood ?"
   ]
  },
  {
   "cell_type": "markdown",
   "metadata": {},
   "source": [
    "## 1. Theory"
   ]
  },
  {
   "cell_type": "markdown",
   "metadata": {},
   "source": [
    "Likelihood is a function that inform you how well the data \n",
    "$\\mathbf{x} = [x_1 \\ldots x_n]$ fit \n",
    "to a model with parameters $\\Theta = [\\theta_1 \\ldots \\theta_n]$.\n",
    "\n",
    "We write it as $L(\\Theta)$  :\n",
    "\\begin{equation}\n",
    "L(\\Theta) = P(X=\\mathbf{x}\\mid\\Theta) = P(x_1\\mid\\Theta)P(x_2\\mid\\Theta) \\cdots P(x_n\\mid\\Theta)\n",
    "        = \\prod^n_{i=1} P(x_i\\mid\\Theta)\n",
    "\\end{equation}\n",
    "Where $X$ is a random variable, $\\mathbf{x}$ is the data."
   ]
  },
  {
   "cell_type": "markdown",
   "metadata": {},
   "source": [
    "If you maximize the likelihood, then you can estimate the best set of parameters $\\Theta$ given some data $\\mathbf{x}$.\n",
    "Because it is more easier to work with a sum than a product, \n",
    "we compute the log-likelihood instead.\n",
    "\n",
    "\\begin{equation}\n",
    "\\log L(\\Theta) = \\log P(x_1\\mid\\Theta) + \\log P(x_2\\mid\\Theta) + \\cdots + \\log P(x_n\\mid\\Theta)\n",
    "        = \\sum^n_{i=1} \\log P(x_i\\mid\\Theta)\n",
    "\\end{equation} \n",
    "\n",
    "The basic idea is to find for which parameters $\\Theta$ this function is maximized, using its derivative. We can also minimize the negative log-likelihood, called a cost function.\n"
   ]
  },
  {
   "cell_type": "markdown",
   "metadata": {},
   "source": [
    "## 2. One little example"
   ]
  },
  {
   "cell_type": "markdown",
   "metadata": {},
   "source": [
    "I will try to explain how likelihood can be used with one simple example. :)\n",
    "\n",
    "Imagine you are walking the street and see a street hustler, he is asking you to flip a coin for 5\\$.\n",
    "If the result is tail he will give you 11\\$, otherwise you lose your money.\n",
    "You think it's a good trade, so you try $5$ times. The result is 2 tails (tail is 0) : "
   ]
  },
  {
   "cell_type": "code",
   "execution_count": 4,
   "metadata": {},
   "outputs": [
    {
     "name": "stdout",
     "output_type": "stream",
     "text": [
      "[1 0 0 1 1]\n"
     ]
    }
   ],
   "source": [
    "import matplotlib.pyplot as plt\n",
    "import numpy as np\n",
    "import scipy as sp\n",
    "\n",
    "np.random.seed(0)\n",
    "coin = np.random.binomial(1,0.6,5)\n",
    "print(coin)"
   ]
  },
  {
   "cell_type": "markdown",
   "metadata": {},
   "source": [
    "You are really angry, you just lost 3\\$ !\n",
    "\n",
    "So depending on this experience, \n",
    "what is the probability $p$ of having a head ? You should answer something \n",
    "like : \n",
    "\\begin{equation}\n",
    "\\frac{n_{head}}{n} = 0.6\n",
    "\\end{equation}\n",
    "Congratulation, you just used a maximum likelihood\n",
    "estimate ! Maybe you can conclude that the coin is biased \n",
    "because $p\\neq 0.5$ ?\n",
    "(of course you need more tries than that to conclude something)."
   ]
  },
  {
   "cell_type": "markdown",
   "metadata": {},
   "source": [
    "There are two ways to compute maximum likelihood\n",
    "estimation (mle), theorically (like the previous example) and numerically."
   ]
  },
  {
   "cell_type": "markdown",
   "metadata": {},
   "source": [
    "## 3. Theorical maximum likelihood estimation"
   ]
  },
  {
   "cell_type": "markdown",
   "metadata": {},
   "source": [
    "We suppose that we know the distribution from where our data comes from.\n",
    "\n",
    "For a coin flipping it can be a bernoulli distribution :\n",
    "\\begin{equation}\n",
    "P(X = x) = p^x(1-p)^{1-x}\n",
    "\\end{equation}\n",
    "\n",
    "Where $p$ is the parameter of the model (probability to have a head),\n",
    "and x is the data (head or tail). We want to find the best estimation \n",
    "$\\hat{p}$ for the probability of head $p = P(X=1)$ using mle.\n",
    "\n",
    "If we write the likelihood function it would be :\n",
    "\n",
    "\\begin{equation}    \n",
    "L(p) = \\prod^n_i P(x_i\\mid p)\n",
    "      = p^{x_1}(1-p)^{(1-x_1)}p^{x_2}(1-p)^{(1-x_2)} \\cdots p^{x_n}(1-p)^{(1-x_n)}\n",
    "\\end{equation}\n",
    "\n",
    "The log likelihood is:\n",
    "\n",
    "\\begin{equation}    \n",
    "\\log L(p) = \\sum x_i \\log p + (n - \\sum x_i) \\log (1-p)     \n",
    "\\end{equation} \n",
    "\n",
    "The maximum is given when the derivative is equal to 0 :\n",
    "    \n",
    "\\begin{equation}\n",
    "\\frac{dL}{dp} = \\frac{\\sum x_i}{p} - \\frac{n-\\sum x_i}{1-p} = 0\n",
    "\\end{equation}\n",
    "\n",
    "We can now evaluate the best estimation $\\hat{p}$ of $p$ :\n",
    "\\begin{equation}\n",
    "\\hat{p} = \\frac{\\sum x_i}{n}\n",
    "\\end{equation}\n",
    "Which is the formula that we used earlier ! "
   ]
  },
  {
   "cell_type": "markdown",
   "metadata": {},
   "source": [
    "## 4. Numerical maximum likelihood estimation"
   ]
  },
  {
   "cell_type": "markdown",
   "metadata": {},
   "source": [
    "Another way to estimate $\\hat{p}$ is to compute it numerically, using gradient descent.\n",
    "This is the basic idea of machine learning : the input data can be really \n",
    "complicated (thousands of pixels), and we make assumptions on the distribution\n",
    "(softmax in neural network, gaussian in gaussian processes...)."
   ]
  },
  {
   "cell_type": "markdown",
   "metadata": {},
   "source": [
    "First, let's emulate the coin flipping.\n",
    "We suppose that data comes from a bernoulli distribution with parameter\n",
    "$p = 0.6$.\n",
    "\n",
    "We will see if we can estimate correctly this parameter at the end."
   ]
  },
  {
   "cell_type": "code",
   "execution_count": 5,
   "metadata": {
    "collapsed": true
   },
   "outputs": [],
   "source": [
    "np.random.seed(3)\n",
    "p = 0.6\n",
    "n = 1000\n",
    "x = np.random.binomial(1,p,n)"
   ]
  },
  {
   "cell_type": "markdown",
   "metadata": {},
   "source": [
    "We hypothetize that our sample comes form a bernoulli distrubution :"
   ]
  },
  {
   "cell_type": "code",
   "execution_count": 6,
   "metadata": {
    "collapsed": true
   },
   "outputs": [],
   "source": [
    "def bernoulli(p, x):\n",
    "    return (p**x)*(1-p)**(1-x)"
   ]
  },
  {
   "cell_type": "markdown",
   "metadata": {},
   "source": [
    "Computation of the likelihood to define the fitness of the data"
   ]
  },
  {
   "cell_type": "code",
   "execution_count": 7,
   "metadata": {
    "collapsed": true
   },
   "outputs": [],
   "source": [
    "def log_likelihood(p, x):\n",
    "    return np.sum(x)*np.log(p) + (len(x) - np.sum(x))*np.log(1-p)"
   ]
  },
  {
   "cell_type": "markdown",
   "metadata": {},
   "source": [
    "Now we can do the gradient descent, used to update the parameter :\n",
    "\n",
    "\\begin{equation}\n",
    "\\Theta(t+1) = \\Theta(t) - \\mu\\nabla\\Theta(t+1) \n",
    "\\end{equation}\n",
    "\n",
    "$\\mu$ is the learning rate, which defined how fast you will update your params.\n",
    "    \n",
    "$\\nabla\\Theta(t+1)$  is given by taking the gradient over all the parameters\n",
    "(in our case just the derivative over p)"
   ]
  },
  {
   "cell_type": "code",
   "execution_count": 8,
   "metadata": {
    "collapsed": true
   },
   "outputs": [],
   "source": [
    "def derivative_log_likelihood(p, x):\n",
    "    sum_xi = np.sum(x)\n",
    "    return (-1)*(sum_xi/p - (len(x) - sum_xi)/(1-p))"
   ]
  },
  {
   "cell_type": "markdown",
   "metadata": {},
   "source": [
    "We also need to fix the hyper-parameters used in gradient-descent.\n",
    "These involve for example the learning rate $\\mu$, the number of iterations max $i_{max}$ \n",
    "the stopping condition $\\epsilon$ and the initial guess for the parameter $\\Theta_{init}$.\n",
    "\n",
    "We found these a posteriori by testing some values, and keeping the ones\n",
    "which gives the best results (done using a training set)."
   ]
  },
  {
   "cell_type": "code",
   "execution_count": 15,
   "metadata": {},
   "outputs": [
    {
     "name": "stdout",
     "output_type": "stream",
     "text": [
      "Found probability 0.592000 in 5137 with log-likelihood 0.000\n"
     ]
    }
   ],
   "source": [
    "p = 0.1\n",
    "learnRate = 1e-6\n",
    "iterMax = 10000\n",
    "iters = 0\n",
    "\n",
    "for _ in range(iterMax):\n",
    "    grad = derivative_log_likelihood(p, x)\n",
    "    p = p - learnRate*grad\n",
    "    iters = iters + 1\n",
    "    if( abs(grad)<1e-6 ):\n",
    "        break\n",
    "\n",
    "print(\"Found probability %1.6f in %d with log-likelihood %1.3f\" %(p,iters,lkls[-1]))  "
   ]
  },
  {
   "cell_type": "markdown",
   "metadata": {},
   "source": [
    "We can plot the log-likelihood to see how it variate"
   ]
  },
  {
   "cell_type": "code",
   "execution_count": 20,
   "metadata": {},
   "outputs": [
    {
     "data": {
      "image/png": "[encoded data removed]",
      "text/plain": [
       "<matplotlib.figure.Figure at 0x883ff98>"
      ]
     },
     "metadata": {},
     "output_type": "display_data"
    },
    {
     "data": {
      "image/png": "[encoded data removed]",
      "text/plain": [
       "<matplotlib.figure.Figure at 0x82f2da0>"
      ]
     },
     "metadata": {},
     "output_type": "display_data"
    },
    {
     "data": {
      "image/png": "[encoded data removed]",
      "text/plain": [
       "<matplotlib.figure.Figure at 0x84d47b8>"
      ]
     },
     "metadata": {},
     "output_type": "display_data"
    }
   ],
   "source": [
    "p=np.linspace(0.01,0.99,100)\n",
    "lkls = log_likelihood(p,x)\n",
    "plt.figure()\n",
    "plt.plot(p,lkls)\n",
    "plt.show()"
   ]
  },
  {
   "cell_type": "markdown",
   "metadata": {},
   "source": [
    "We can also look at the normalized likelihood"
   ]
  },
  {
   "cell_type": "code",
   "execution_count": 14,
   "metadata": {},
   "outputs": [
    {
     "data": {
      "image/png": "[encoded data removed]",
      "text/plain": [
       "<matplotlib.figure.Figure at 0x83dbef0>"
      ]
     },
     "metadata": {},
     "output_type": "display_data"
    }
   ],
   "source": [
    "def likelihood(p, x):\n",
    "    return (p**(sum(x)))*((1-p)**(len(x) - sum(x)))\n",
    "\n",
    "plt.figure()\n",
    "lkls = likelihood(p,x)\n",
    "lkls = lkls / np.max(lkls)\n",
    "plt.plot(p,lkls)\n",
    "plt.show()"
   ]
  },
  {
   "cell_type": "markdown",
   "metadata": {},
   "source": [
    "## 5. Conclusion"
   ]
  },
  {
   "cell_type": "markdown",
   "metadata": {},
   "source": [
    "Maximum likelihood is probably one of the most important algorithm, without it there is no machine learning, neural newtorks etc...\n",
    "\n",
    "We saw two ways to use it, theorically and numerically. The latter is mostly used because it is often to complicated to do the calculations."
   ]
  },
  {
   "cell_type": "markdown",
   "metadata": {},
   "source": [
    "# tl;dr\n",
    "1. Start to hypothetize from what distribution your data comes from.\n",
    "2. Calculate the log-likelihood (cost function).\n",
    "3. Infer the derivative of the log-likelihood respect to parameters\n",
    "4. Use gradient descent to update your parameters, with an initial guess"
   ]
  },
  {
   "cell_type": "markdown",
   "metadata": {},
   "source": [
    "# Code"
   ]
  },
  {
   "cell_type": "code",
   "execution_count": 19,
   "metadata": {},
   "outputs": [
    {
     "name": "stdout",
     "output_type": "stream",
     "text": [
      "Found probability 0.592000 in 5137 with log-likelihood 0.000\n"
     ]
    },
    {
     "data": {
      "text/plain": [
       "[<matplotlib.lines.Line2D at 0x88887b8>]"
      ]
     },
     "execution_count": 19,
     "metadata": {},
     "output_type": "execute_result"
    }
   ],
   "source": [
    "import matplotlib.pyplot as plt\n",
    "import numpy as np\n",
    "import scipy as sp\n",
    "\n",
    "np.random.seed(0)\n",
    "coin = np.random.binomial(1,0.6,5)\n",
    "\n",
    "np.random.seed(3)\n",
    "p = 0.6\n",
    "n = 1000\n",
    "x = np.random.binomial(1,p,n)\n",
    "\n",
    "def bernoulli(p, x):\n",
    "    return (p**x)*(1-p)**(1-x)\n",
    "\n",
    "def log_likelihood(p, x):\n",
    "    return np.sum(x)*np.log(p) + (len(x) - np.sum(x))*np.log(1-p)\n",
    "\n",
    "def derivative_log_likelihood(p, x):\n",
    "    sum_xi = np.sum(x)\n",
    "    return (-1)*(sum_xi/p - (len(x) - sum_xi)/(1-p))\n",
    "    \n",
    "p = 0.1\n",
    "learnRate = 1e-6\n",
    "iterMax = 10000\n",
    "iters = 0\n",
    "\n",
    "for _ in range(iterMax):\n",
    "    \n",
    "    # gradient descent\n",
    "    grad = derivative_log_likelihood(p, x)\n",
    "    p = p - learnRate*grad\n",
    "    iters = iters + 1\n",
    "    if( abs(grad)<1e-6 ):\n",
    "        break\n",
    "\n",
    "print(\"Found probability %1.6f in %d with log-likelihood %1.3f\" \n",
    "      %(p,iters,lkls[-1]))    \n",
    "\n",
    "p=np.linspace(0.01,0.99,100)\n",
    "lkls = log_likelihood(p,x)\n",
    "plt.figure()\n",
    "plt.plot(p,lkls)\n",
    "\n",
    "def likelihood(p, x):\n",
    "    return (p**(sum(x)))*((1-p)**(len(x) - sum(x)))\n",
    "\n",
    "plt.figure()\n",
    "lkls = likelihood(p,x)\n",
    "lkls = lkls / np.max(lkls)\n",
    "plt.plot(p,lkls)"
   ]
  }
 ],
 "metadata": {
  "kernelspec": {
   "display_name": "Python 3",
   "language": "python",
   "name": "python3"
  },
  "language_info": {
   "codemirror_mode": {
    "name": "ipython",
    "version": 3
   },
   "file_extension": ".py",
   "mimetype": "text/x-python",
   "name": "python",
   "nbconvert_exporter": "python",
   "pygments_lexer": "ipython3",
   "version": "3.6.5"
  }
 },
 "nbformat": 4,
 "nbformat_minor": 2
}
