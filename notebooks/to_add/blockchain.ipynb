{
 "cells": [
  {
   "cell_type": "markdown",
   "metadata": {},
   "source": [
    "# Hands on : Blockchain technogy"
   ]
  },
  {
   "cell_type": "markdown",
   "metadata": {},
   "source": [
    "Everyone is talking about cryptocurrency like bitcoin, about the possibility \n",
    "<cite data-cite=\"granger2013\">(Granger, 2013)</cite>\n",
    "\n",
    "https://github.com/bitcoinbook/bitcoinbook\n",
    "\n",
    "Blockchain is a technology that allow you to store informations safely, anonymously.<br>\n",
    "Safely because it is hard (verry long for a single computer) to create a new content.<br>\n",
    "Anonymous because it uses sha encryption to protect your identity.\n",
    "Everything that is inside the blockchain remains in it. There is no need for a thrust party (like a bank) to validate, and is difficult.\n",
    "The key idea of the blockchain is that it is easy to validate the content (list of transactions for cryptocurrency, a medical record ...), but hard to add it to the blockchain (generate a new block). Because of the proof of work. The generation of a new block, depends on the prevous block and is long.\n",
    "\n",
    "Ultra-secure and immutable store of information\n",
    "\n",
    "· Decentralization of transactions\n",
    "\n",
    "· Built-in gamification"
   ]
  },
  {
   "cell_type": "code",
   "execution_count": 12,
   "metadata": {},
   "outputs": [],
   "source": [
    "import hashlib as hasher\n",
    "import datetime\n",
    "import time\n",
    "import numpy as np"
   ]
  },
  {
   "cell_type": "markdown",
   "metadata": {},
   "source": [
    "Imagine I want to store some data comming from a gaussian that I sepcified, so next time I can use it. I want to ensure integrity of my data, and to protect myself from hackers who want's to modify my data. \n",
    "\n",
    "\n",
    "\n",
    "Add boolean test to check if data is coming from my gaussian.\n",
    "\n",
    "\n",
    "\n"
   ]
  },
  {
   "cell_type": "code",
   "execution_count": 2,
   "metadata": {},
   "outputs": [],
   "source": [
    "class block:\n",
    "    \n",
    "    def __init__(self, index, timestamp, data, prevHash):\n",
    "        self.aIndex = index\n",
    "        self.aTimestamp = timestamp\n",
    "        self.aData = data\n",
    "        self.aPrevHash = prevHash\n",
    "        self.aHash = None\n",
    "        \n",
    "    def mHashBlock(self, num=''):\n",
    "        string = str(self.aIndex) + str(self.aTimestamp) + str(self.aData) + self.aPrevHash + str(num)\n",
    "        self.aHash = hasher.sha256( (string).encode('utf-8')).hexdigest()\n",
    "        return self.aHash\n",
    "    \n",
    "    def __repr__(self):\n",
    "        return \"aIndex : \" + str(self.aIndex) + \\\n",
    "                \"\\naTimestamp : \" + str(self.aTimestamp) + \\\n",
    "                \"\\naData : \" + str(self.aData) + \\\n",
    "                \"\\naPrevHash : \" + self.aPrevHash"
   ]
  },
  {
   "cell_type": "code",
   "execution_count": 3,
   "metadata": {},
   "outputs": [],
   "source": [
    "def mProofOfWork(block):\n",
    "    \n",
    "    num = 0 \n",
    "    while(True):\n",
    "        if (block.mHashBlock(num)[0:4] == '0000'):\n",
    "            break\n",
    "        num = num + 1\n",
    "    \n",
    "    return True"
   ]
  },
  {
   "cell_type": "code",
   "execution_count": 4,
   "metadata": {},
   "outputs": [],
   "source": [
    "blockChain = list()\n",
    "idx = 0\n",
    "genesisBlock = block(idx,\n",
    "                     datetime.datetime.utcnow(), \n",
    "                     np.random.normal(), \n",
    "                     hasher.sha256( ('PyChain').encode('utf-8')).hexdigest())\n",
    "mProofOfWork(genesisBlock)\n",
    "blockChain.append(genesisBlock)\n",
    "idx = idx + 1\n"
   ]
  },
  {
   "cell_type": "markdown",
   "metadata": {},
   "source": [
    "Finally, let's generate few new blocks, and add it to the chain."
   ]
  },
  {
   "cell_type": "code",
   "execution_count": 5,
   "metadata": {},
   "outputs": [
    {
     "name": "stdout",
     "output_type": "stream",
     "text": [
      "Block #0 at 0.0s \n",
      "sha : 000052fe7364d99517e591fb95e662ae3e559ed64bc22dcda1a62c06308fc420\n",
      "Block #1 at 0.9s \n",
      "sha : 00000e85d1c1635ed71bbc79cb13279311a71f9f9006277d3c5ced14bd0ccb85\n",
      "Block #2 at 1.1s \n",
      "sha : 0000c179d1be3f574a574adb309a4c401840c60aa72b726fb9930d37dc35931f\n",
      "Block #3 at 1.4s \n",
      "sha : 0000c6742d635bf982ef6448d69cc452801392e53058674e12582dc227afc682\n",
      "Block #4 at 3.7s \n",
      "sha : 00005ef0e313693c9ea7a459bdfc9a51fdfc6770c5c2a2f99cdd80157229383c\n"
     ]
    }
   ],
   "source": [
    "start = time.time()\n",
    "while (idx<=5):\n",
    "    # start = time.time()\n",
    "    print( (\"Block #%d at %2.1fs \\nsha : %s\")%(blockChain[idx-1].aIndex, time.time()-start, blockChain[idx-1].aHash) )\n",
    "    currBlock = block(idx, \n",
    "                      datetime.datetime.utcnow(), \n",
    "                      np.random.normal(), \n",
    "                      blockChain[idx-1].aHash )\n",
    "    ## Proof of work\n",
    "    mProofOfWork(currBlock)\n",
    "    blockChain.append(currBlock)\n",
    "    idx = idx + 1"
   ]
  },
  {
   "cell_type": "code",
   "execution_count": 11,
   "metadata": {},
   "outputs": [
    {
     "data": {
      "text/plain": [
       "aIndex : 5\n",
       "aTimestamp : 2018-08-16 23:50:45.633457\n",
       "aData : -1.4291240634089606\n",
       "aPrevHash : 00005ef0e313693c9ea7a459bdfc9a51fdfc6770c5c2a2f99cdd80157229383c"
      ]
     },
     "execution_count": 11,
     "metadata": {},
     "output_type": "execute_result"
    }
   ],
   "source": [
    "blockChain[5]"
   ]
  },
  {
   "cell_type": "markdown",
   "metadata": {},
   "source": [
    "How transactions work ?"
   ]
  },
  {
   "cell_type": "markdown",
   "metadata": {},
   "source": [
    "take all inputs (transactions)\n",
    "Check if output is < input"
   ]
  },
  {
   "cell_type": "markdown",
   "metadata": {},
   "source": [
    "must use conditions to ensure you send to one person and not another. To verifyif the sender is authorized to spend money"
   ]
  },
  {
   "cell_type": "markdown",
   "metadata": {},
   "source": [
    "conditions are done in a specific script format called p2pkh (pay to public key hash) :\n",
    "```script\n",
    "OP_DUP OP_H160 <PUBKH> OP_EQUALVERIFY OP_CHECKSIG\n",
    "```\n",
    "\n",
    "Of course these conditions can change depending on your application.\n",
    "OP_H160 is a double hash : sha-256 with ripemd-160\n",
    "\n",
    "inputs of the script are : \n",
    "your public key that the sender BOB encrypted using H160.\n",
    "a signature from the previous transaction of BOB.\n",
    "\n",
    "https://www.youtube.com/watch?v=8FeAXjkmDcQ"
   ]
  },
  {
   "cell_type": "markdown",
   "metadata": {},
   "source": [
    "At the beginning, just OP_EQUALVERIFY OP_CHECKSIG. But because of the risk to invert hashing algorithm (what quandtum computers are good to..), it is safer to hash the public key before using it to provide additionnal protection."
   ]
  },
  {
   "cell_type": "markdown",
   "metadata": {},
   "source": [
    "Alice has a private key, and apply on the transaction fingerprint to create its numerical signature. Only Bob can create this signature and no one else.\n",
    "Now, Bob take Alice's public key and the transaction fingerprint to verify Alice's signature for this transaction!"
   ]
  },
  {
   "cell_type": "markdown",
   "metadata": {},
   "source": [
    "blockchain allows you to ensure timestamp, to avoid double spending\n"
   ]
  },
  {
   "cell_type": "markdown",
   "metadata": {},
   "source": [
    "If there was non blockchain, anyone (A) could spend money to (B), and before money arrive to (B) (propagation to network) he could spend again to (C) (or send the money again to himself so it will be verry quick)"
   ]
  },
  {
   "cell_type": "markdown",
   "metadata": {},
   "source": [
    "CONCLUSOION\n",
    "blockchain is the future , even in health : https://medium.com/crypto-oracle/blockchain-in-healthcare-a-data-centric-perspective-109e898d73f3"
   ]
  }
 ],
 "metadata": {
  "kernelspec": {
   "display_name": "Python 3",
   "language": "python",
   "name": "python3"
  },
  "language_info": {
   "codemirror_mode": {
    "name": "ipython",
    "version": 3
   },
   "file_extension": ".py",
   "mimetype": "text/x-python",
   "name": "python",
   "nbconvert_exporter": "python",
   "pygments_lexer": "ipython3",
   "version": "3.6.5"
  }
 },
 "nbformat": 4,
 "nbformat_minor": 2
}
